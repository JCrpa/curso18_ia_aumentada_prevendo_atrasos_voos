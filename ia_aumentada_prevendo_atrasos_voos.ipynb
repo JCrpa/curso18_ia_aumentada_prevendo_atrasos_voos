{
 "cells": [
  {
   "cell_type": "markdown",
   "metadata": {
    "id": "3RgyMaan04TD"
   },
   "source": [
    "### Módulo 1 - Explorando os dados - Aula 3 - Entendendo os dados"
   ]
  },
  {
   "cell_type": "code",
   "execution_count": 2,
   "metadata": {
    "id": "UN77EfQ2d36Y"
   },
   "outputs": [
    {
     "name": "stdout",
     "output_type": "stream",
     "text": [
      "Versão do pandas: 2.2.3\n",
      "Versão do numpy: 2.2.4\n",
      "Versão do scikit-learn (sklearn): 1.6.1\n",
      "Versão do seaborn: 0.13.2\n",
      "Versão do yellowbrick: 1.5\n"
     ]
    }
   ],
   "source": [
    "import pandas as pd\n",
    "import numpy as np\n",
    "import sklearn\n",
    "import seaborn as sns\n",
    "import yellowbrick\n",
    "\n",
    "print(f'Versão do pandas: {pd.__version__}')\n",
    "print(f'Versão do numpy: {np.__version__}')\n",
    "print(f'Versão do scikit-learn (sklearn): {sklearn.__version__}')\n",
    "print(f'Versão do seaborn: {sns.__version__}')\n",
    "print(f'Versão do yellowbrick: {yellowbrick.__version__}')"
   ]
  },
  {
   "cell_type": "code",
   "execution_count": null,
   "metadata": {},
   "outputs": [],
   "source": []
  }
 ],
 "metadata": {
  "colab": {
   "authorship_tag": "ABX9TyNAcHMa4C+Q6J7M1CkYm1Tn",
   "provenance": [],
   "toc_visible": true
  },
  "kernelspec": {
   "display_name": "Python 3",
   "name": "python3"
  },
  "language_info": {
   "codemirror_mode": {
    "name": "ipython",
    "version": 3
   },
   "file_extension": ".py",
   "mimetype": "text/x-python",
   "name": "python",
   "nbconvert_exporter": "python",
   "pygments_lexer": "ipython3",
   "version": "3.13.3"
  }
 },
 "nbformat": 4,
 "nbformat_minor": 0
}
