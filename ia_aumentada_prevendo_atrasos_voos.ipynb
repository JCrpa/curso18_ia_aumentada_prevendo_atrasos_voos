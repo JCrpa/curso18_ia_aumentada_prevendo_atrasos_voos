{
 "cells": [
  {
   "cell_type": "markdown",
   "metadata": {
    "id": "3RgyMaan04TD"
   },
   "source": [
    "### Módulo 1 - Explorando os dados - Aula 3 - Entendendo os dados"
   ]
  },
  {
   "cell_type": "code",
   "execution_count": 1,
   "metadata": {
    "id": "UN77EfQ2d36Y"
   },
   "outputs": [
    {
     "name": "stdout",
     "output_type": "stream",
     "text": [
      "Versão do pandas: 2.2.3\n",
      "Versão do numpy: 2.2.4\n",
      "Versão do scikit-learn (sklearn): 1.6.1\n",
      "Versão do seaborn: 0.13.2\n",
      "Versão do yellowbrick: 1.5\n"
     ]
    }
   ],
   "source": [
    "import pandas as pd\n",
    "import numpy as np\n",
    "import sklearn\n",
    "import seaborn as sns\n",
    "import yellowbrick\n",
    "\n",
    "print(f'Versão do pandas: {pd.__version__}')\n",
    "print(f'Versão do numpy: {np.__version__}')\n",
    "print(f'Versão do scikit-learn (sklearn): {sklearn.__version__}')\n",
    "print(f'Versão do seaborn: {sns.__version__}')\n",
    "print(f'Versão do yellowbrick: {yellowbrick.__version__}')"
   ]
  },
  {
   "cell_type": "code",
   "execution_count": 2,
   "metadata": {},
   "outputs": [],
   "source": [
    "dados = pd.read_csv('C:\\\\Users\\\\joaoc\\\\OneDrive\\\\Documentos\\\\Aprendizado_ONE\\\\formacao-tech-foundation\\\\curso18_ia_aumentada_prevendo_atrasos_voos\\\\flights.csv')"
   ]
  },
  {
   "cell_type": "code",
   "execution_count": 3,
   "metadata": {},
   "outputs": [
    {
     "data": {
      "text/html": [
       "<div>\n",
       "<style scoped>\n",
       "    .dataframe tbody tr th:only-of-type {\n",
       "        vertical-align: middle;\n",
       "    }\n",
       "\n",
       "    .dataframe tbody tr th {\n",
       "        vertical-align: top;\n",
       "    }\n",
       "\n",
       "    .dataframe thead th {\n",
       "        text-align: right;\n",
       "    }\n",
       "</style>\n",
       "<table border=\"1\" class=\"dataframe\">\n",
       "  <thead>\n",
       "    <tr style=\"text-align: right;\">\n",
       "      <th></th>\n",
       "      <th>flight_id</th>\n",
       "      <th>airline</th>\n",
       "      <th>aircraft_type</th>\n",
       "      <th>schengen</th>\n",
       "      <th>origin</th>\n",
       "      <th>arrival_time</th>\n",
       "      <th>departure_time</th>\n",
       "      <th>day</th>\n",
       "      <th>year</th>\n",
       "      <th>is_holiday</th>\n",
       "      <th>delay</th>\n",
       "    </tr>\n",
       "  </thead>\n",
       "  <tbody>\n",
       "    <tr>\n",
       "      <th>0</th>\n",
       "      <td>26</td>\n",
       "      <td>MM</td>\n",
       "      <td>Airbus A320</td>\n",
       "      <td>non-schengen</td>\n",
       "      <td>TCY</td>\n",
       "      <td>8.885071</td>\n",
       "      <td>10.885071</td>\n",
       "      <td>0</td>\n",
       "      <td>2010</td>\n",
       "      <td>False</td>\n",
       "      <td>70.205981</td>\n",
       "    </tr>\n",
       "    <tr>\n",
       "      <th>1</th>\n",
       "      <td>10</td>\n",
       "      <td>YE</td>\n",
       "      <td>Airbus A320</td>\n",
       "      <td>non-schengen</td>\n",
       "      <td>TCY</td>\n",
       "      <td>8.939996</td>\n",
       "      <td>11.939996</td>\n",
       "      <td>0</td>\n",
       "      <td>2010</td>\n",
       "      <td>False</td>\n",
       "      <td>38.484609</td>\n",
       "    </tr>\n",
       "    <tr>\n",
       "      <th>2</th>\n",
       "      <td>3</td>\n",
       "      <td>BZ</td>\n",
       "      <td>Embraer E175</td>\n",
       "      <td>schengen</td>\n",
       "      <td>TZF</td>\n",
       "      <td>18.635384</td>\n",
       "      <td>22.635384</td>\n",
       "      <td>0</td>\n",
       "      <td>2010</td>\n",
       "      <td>False</td>\n",
       "      <td>2.388305</td>\n",
       "    </tr>\n",
       "    <tr>\n",
       "      <th>3</th>\n",
       "      <td>28</td>\n",
       "      <td>BZ</td>\n",
       "      <td>Airbus A330</td>\n",
       "      <td>non-schengen</td>\n",
       "      <td>EMM</td>\n",
       "      <td>15.967963</td>\n",
       "      <td>17.967963</td>\n",
       "      <td>0</td>\n",
       "      <td>2010</td>\n",
       "      <td>False</td>\n",
       "      <td>19.138491</td>\n",
       "    </tr>\n",
       "    <tr>\n",
       "      <th>4</th>\n",
       "      <td>15</td>\n",
       "      <td>BZ</td>\n",
       "      <td>Airbus A330</td>\n",
       "      <td>non-schengen</td>\n",
       "      <td>FJB</td>\n",
       "      <td>16.571894</td>\n",
       "      <td>19.571894</td>\n",
       "      <td>0</td>\n",
       "      <td>2010</td>\n",
       "      <td>False</td>\n",
       "      <td>15.016271</td>\n",
       "    </tr>\n",
       "    <tr>\n",
       "      <th>...</th>\n",
       "      <td>...</td>\n",
       "      <td>...</td>\n",
       "      <td>...</td>\n",
       "      <td>...</td>\n",
       "      <td>...</td>\n",
       "      <td>...</td>\n",
       "      <td>...</td>\n",
       "      <td>...</td>\n",
       "      <td>...</td>\n",
       "      <td>...</td>\n",
       "      <td>...</td>\n",
       "    </tr>\n",
       "    <tr>\n",
       "      <th>71170</th>\n",
       "      <td>3</td>\n",
       "      <td>BZ</td>\n",
       "      <td>Embraer E175</td>\n",
       "      <td>schengen</td>\n",
       "      <td>TZF</td>\n",
       "      <td>18.635384</td>\n",
       "      <td>22.635384</td>\n",
       "      <td>364</td>\n",
       "      <td>2022</td>\n",
       "      <td>True</td>\n",
       "      <td>25.677277</td>\n",
       "    </tr>\n",
       "    <tr>\n",
       "      <th>71171</th>\n",
       "      <td>17</td>\n",
       "      <td>BZ</td>\n",
       "      <td>Airbus A330</td>\n",
       "      <td>non-schengen</td>\n",
       "      <td>CNU</td>\n",
       "      <td>16.718722</td>\n",
       "      <td>21.718722</td>\n",
       "      <td>364</td>\n",
       "      <td>2022</td>\n",
       "      <td>True</td>\n",
       "      <td>52.624348</td>\n",
       "    </tr>\n",
       "    <tr>\n",
       "      <th>71172</th>\n",
       "      <td>7</td>\n",
       "      <td>MM</td>\n",
       "      <td>Boeing 787</td>\n",
       "      <td>schengen</td>\n",
       "      <td>TZF</td>\n",
       "      <td>8.564949</td>\n",
       "      <td>13.564949</td>\n",
       "      <td>364</td>\n",
       "      <td>2022</td>\n",
       "      <td>True</td>\n",
       "      <td>56.167080</td>\n",
       "    </tr>\n",
       "    <tr>\n",
       "      <th>71173</th>\n",
       "      <td>5</td>\n",
       "      <td>BZ</td>\n",
       "      <td>Airbus A320</td>\n",
       "      <td>schengen</td>\n",
       "      <td>ZQO</td>\n",
       "      <td>9.344097</td>\n",
       "      <td>12.344097</td>\n",
       "      <td>364</td>\n",
       "      <td>2022</td>\n",
       "      <td>True</td>\n",
       "      <td>56.758844</td>\n",
       "    </tr>\n",
       "    <tr>\n",
       "      <th>71174</th>\n",
       "      <td>29</td>\n",
       "      <td>BZ</td>\n",
       "      <td>Boeing 737</td>\n",
       "      <td>schengen</td>\n",
       "      <td>ZQO</td>\n",
       "      <td>8.591208</td>\n",
       "      <td>11.591208</td>\n",
       "      <td>364</td>\n",
       "      <td>2022</td>\n",
       "      <td>True</td>\n",
       "      <td>41.401648</td>\n",
       "    </tr>\n",
       "  </tbody>\n",
       "</table>\n",
       "<p>71175 rows × 11 columns</p>\n",
       "</div>"
      ],
      "text/plain": [
       "       flight_id airline aircraft_type      schengen origin  arrival_time  \\\n",
       "0             26      MM   Airbus A320  non-schengen    TCY      8.885071   \n",
       "1             10      YE   Airbus A320  non-schengen    TCY      8.939996   \n",
       "2              3      BZ  Embraer E175      schengen    TZF     18.635384   \n",
       "3             28      BZ   Airbus A330  non-schengen    EMM     15.967963   \n",
       "4             15      BZ   Airbus A330  non-schengen    FJB     16.571894   \n",
       "...          ...     ...           ...           ...    ...           ...   \n",
       "71170          3      BZ  Embraer E175      schengen    TZF     18.635384   \n",
       "71171         17      BZ   Airbus A330  non-schengen    CNU     16.718722   \n",
       "71172          7      MM    Boeing 787      schengen    TZF      8.564949   \n",
       "71173          5      BZ   Airbus A320      schengen    ZQO      9.344097   \n",
       "71174         29      BZ    Boeing 737      schengen    ZQO      8.591208   \n",
       "\n",
       "       departure_time  day  year  is_holiday      delay  \n",
       "0           10.885071    0  2010       False  70.205981  \n",
       "1           11.939996    0  2010       False  38.484609  \n",
       "2           22.635384    0  2010       False   2.388305  \n",
       "3           17.967963    0  2010       False  19.138491  \n",
       "4           19.571894    0  2010       False  15.016271  \n",
       "...               ...  ...   ...         ...        ...  \n",
       "71170       22.635384  364  2022        True  25.677277  \n",
       "71171       21.718722  364  2022        True  52.624348  \n",
       "71172       13.564949  364  2022        True  56.167080  \n",
       "71173       12.344097  364  2022        True  56.758844  \n",
       "71174       11.591208  364  2022        True  41.401648  \n",
       "\n",
       "[71175 rows x 11 columns]"
      ]
     },
     "execution_count": 3,
     "metadata": {},
     "output_type": "execute_result"
    }
   ],
   "source": [
    "dados"
   ]
  },
  {
   "cell_type": "code",
   "execution_count": 4,
   "metadata": {},
   "outputs": [
    {
     "data": {
      "text/html": [
       "<div>\n",
       "<style scoped>\n",
       "    .dataframe tbody tr th:only-of-type {\n",
       "        vertical-align: middle;\n",
       "    }\n",
       "\n",
       "    .dataframe tbody tr th {\n",
       "        vertical-align: top;\n",
       "    }\n",
       "\n",
       "    .dataframe thead th {\n",
       "        text-align: right;\n",
       "    }\n",
       "</style>\n",
       "<table border=\"1\" class=\"dataframe\">\n",
       "  <thead>\n",
       "    <tr style=\"text-align: right;\">\n",
       "      <th></th>\n",
       "      <th>flight_id</th>\n",
       "      <th>airline</th>\n",
       "      <th>aircraft_type</th>\n",
       "      <th>schengen</th>\n",
       "      <th>origin</th>\n",
       "      <th>arrival_time</th>\n",
       "      <th>departure_time</th>\n",
       "      <th>day</th>\n",
       "      <th>year</th>\n",
       "      <th>is_holiday</th>\n",
       "      <th>delay</th>\n",
       "    </tr>\n",
       "  </thead>\n",
       "  <tbody>\n",
       "    <tr>\n",
       "      <th>71170</th>\n",
       "      <td>3</td>\n",
       "      <td>BZ</td>\n",
       "      <td>Embraer E175</td>\n",
       "      <td>schengen</td>\n",
       "      <td>TZF</td>\n",
       "      <td>18.635384</td>\n",
       "      <td>22.635384</td>\n",
       "      <td>364</td>\n",
       "      <td>2022</td>\n",
       "      <td>True</td>\n",
       "      <td>25.677277</td>\n",
       "    </tr>\n",
       "    <tr>\n",
       "      <th>71171</th>\n",
       "      <td>17</td>\n",
       "      <td>BZ</td>\n",
       "      <td>Airbus A330</td>\n",
       "      <td>non-schengen</td>\n",
       "      <td>CNU</td>\n",
       "      <td>16.718722</td>\n",
       "      <td>21.718722</td>\n",
       "      <td>364</td>\n",
       "      <td>2022</td>\n",
       "      <td>True</td>\n",
       "      <td>52.624348</td>\n",
       "    </tr>\n",
       "    <tr>\n",
       "      <th>71172</th>\n",
       "      <td>7</td>\n",
       "      <td>MM</td>\n",
       "      <td>Boeing 787</td>\n",
       "      <td>schengen</td>\n",
       "      <td>TZF</td>\n",
       "      <td>8.564949</td>\n",
       "      <td>13.564949</td>\n",
       "      <td>364</td>\n",
       "      <td>2022</td>\n",
       "      <td>True</td>\n",
       "      <td>56.167080</td>\n",
       "    </tr>\n",
       "    <tr>\n",
       "      <th>71173</th>\n",
       "      <td>5</td>\n",
       "      <td>BZ</td>\n",
       "      <td>Airbus A320</td>\n",
       "      <td>schengen</td>\n",
       "      <td>ZQO</td>\n",
       "      <td>9.344097</td>\n",
       "      <td>12.344097</td>\n",
       "      <td>364</td>\n",
       "      <td>2022</td>\n",
       "      <td>True</td>\n",
       "      <td>56.758844</td>\n",
       "    </tr>\n",
       "    <tr>\n",
       "      <th>71174</th>\n",
       "      <td>29</td>\n",
       "      <td>BZ</td>\n",
       "      <td>Boeing 737</td>\n",
       "      <td>schengen</td>\n",
       "      <td>ZQO</td>\n",
       "      <td>8.591208</td>\n",
       "      <td>11.591208</td>\n",
       "      <td>364</td>\n",
       "      <td>2022</td>\n",
       "      <td>True</td>\n",
       "      <td>41.401648</td>\n",
       "    </tr>\n",
       "  </tbody>\n",
       "</table>\n",
       "</div>"
      ],
      "text/plain": [
       "       flight_id airline aircraft_type      schengen origin  arrival_time  \\\n",
       "71170          3      BZ  Embraer E175      schengen    TZF     18.635384   \n",
       "71171         17      BZ   Airbus A330  non-schengen    CNU     16.718722   \n",
       "71172          7      MM    Boeing 787      schengen    TZF      8.564949   \n",
       "71173          5      BZ   Airbus A320      schengen    ZQO      9.344097   \n",
       "71174         29      BZ    Boeing 737      schengen    ZQO      8.591208   \n",
       "\n",
       "       departure_time  day  year  is_holiday      delay  \n",
       "71170       22.635384  364  2022        True  25.677277  \n",
       "71171       21.718722  364  2022        True  52.624348  \n",
       "71172       13.564949  364  2022        True  56.167080  \n",
       "71173       12.344097  364  2022        True  56.758844  \n",
       "71174       11.591208  364  2022        True  41.401648  "
      ]
     },
     "execution_count": 4,
     "metadata": {},
     "output_type": "execute_result"
    }
   ],
   "source": [
    "dados.tail()"
   ]
  },
  {
   "cell_type": "code",
   "execution_count": 5,
   "metadata": {},
   "outputs": [
    {
     "data": {
      "text/plain": [
       "(71175, 11)"
      ]
     },
     "execution_count": 5,
     "metadata": {},
     "output_type": "execute_result"
    }
   ],
   "source": [
    "dados.shape"
   ]
  },
  {
   "cell_type": "markdown",
   "metadata": {},
   "source": [
    "O método describe é uma ferramenta poderosa que fornece estatísticas descritivas de um conjunto de dados. Este método calcula várias estatísticas resumidas de uma só vez, incluindo a contagem (número de elementos), média, desvio padrão (medida de dispersão dos dados), mínimo (o menor valor), os quartis (25%, 50% e 75% - correspondentes ao primeiro quartil, mediana e terceiro quartil, respectivamente) e o máximo (o maior valor)."
   ]
  },
  {
   "cell_type": "code",
   "execution_count": 6,
   "metadata": {},
   "outputs": [
    {
     "data": {
      "text/html": [
       "<div>\n",
       "<style scoped>\n",
       "    .dataframe tbody tr th:only-of-type {\n",
       "        vertical-align: middle;\n",
       "    }\n",
       "\n",
       "    .dataframe tbody tr th {\n",
       "        vertical-align: top;\n",
       "    }\n",
       "\n",
       "    .dataframe thead th {\n",
       "        text-align: right;\n",
       "    }\n",
       "</style>\n",
       "<table border=\"1\" class=\"dataframe\">\n",
       "  <thead>\n",
       "    <tr style=\"text-align: right;\">\n",
       "      <th></th>\n",
       "      <th>flight_id</th>\n",
       "      <th>arrival_time</th>\n",
       "      <th>departure_time</th>\n",
       "      <th>day</th>\n",
       "      <th>year</th>\n",
       "      <th>delay</th>\n",
       "    </tr>\n",
       "  </thead>\n",
       "  <tbody>\n",
       "    <tr>\n",
       "      <th>count</th>\n",
       "      <td>71175.000000</td>\n",
       "      <td>71175.000000</td>\n",
       "      <td>71175.000000</td>\n",
       "      <td>71175.000000</td>\n",
       "      <td>71175.000000</td>\n",
       "      <td>71175.000000</td>\n",
       "    </tr>\n",
       "    <tr>\n",
       "      <th>mean</th>\n",
       "      <td>15.465135</td>\n",
       "      <td>13.283159</td>\n",
       "      <td>16.480222</td>\n",
       "      <td>182.000000</td>\n",
       "      <td>2016.000000</td>\n",
       "      <td>12.548378</td>\n",
       "    </tr>\n",
       "    <tr>\n",
       "      <th>std</th>\n",
       "      <td>8.649646</td>\n",
       "      <td>4.023380</td>\n",
       "      <td>4.143705</td>\n",
       "      <td>105.366769</td>\n",
       "      <td>3.741684</td>\n",
       "      <td>23.125349</td>\n",
       "    </tr>\n",
       "    <tr>\n",
       "      <th>min</th>\n",
       "      <td>1.000000</td>\n",
       "      <td>7.065594</td>\n",
       "      <td>10.065594</td>\n",
       "      <td>0.000000</td>\n",
       "      <td>2010.000000</td>\n",
       "      <td>-41.028033</td>\n",
       "    </tr>\n",
       "    <tr>\n",
       "      <th>25%</th>\n",
       "      <td>8.000000</td>\n",
       "      <td>8.939996</td>\n",
       "      <td>12.668655</td>\n",
       "      <td>91.000000</td>\n",
       "      <td>2013.000000</td>\n",
       "      <td>-4.412876</td>\n",
       "    </tr>\n",
       "    <tr>\n",
       "      <th>50%</th>\n",
       "      <td>15.000000</td>\n",
       "      <td>14.258911</td>\n",
       "      <td>16.376052</td>\n",
       "      <td>182.000000</td>\n",
       "      <td>2016.000000</td>\n",
       "      <td>9.740454</td>\n",
       "    </tr>\n",
       "    <tr>\n",
       "      <th>75%</th>\n",
       "      <td>23.000000</td>\n",
       "      <td>16.909690</td>\n",
       "      <td>20.041281</td>\n",
       "      <td>273.000000</td>\n",
       "      <td>2019.000000</td>\n",
       "      <td>27.650853</td>\n",
       "    </tr>\n",
       "    <tr>\n",
       "      <th>max</th>\n",
       "      <td>30.000000</td>\n",
       "      <td>19.341235</td>\n",
       "      <td>23.341235</td>\n",
       "      <td>364.000000</td>\n",
       "      <td>2022.000000</td>\n",
       "      <td>125.632352</td>\n",
       "    </tr>\n",
       "  </tbody>\n",
       "</table>\n",
       "</div>"
      ],
      "text/plain": [
       "          flight_id  arrival_time  departure_time           day          year  \\\n",
       "count  71175.000000  71175.000000    71175.000000  71175.000000  71175.000000   \n",
       "mean      15.465135     13.283159       16.480222    182.000000   2016.000000   \n",
       "std        8.649646      4.023380        4.143705    105.366769      3.741684   \n",
       "min        1.000000      7.065594       10.065594      0.000000   2010.000000   \n",
       "25%        8.000000      8.939996       12.668655     91.000000   2013.000000   \n",
       "50%       15.000000     14.258911       16.376052    182.000000   2016.000000   \n",
       "75%       23.000000     16.909690       20.041281    273.000000   2019.000000   \n",
       "max       30.000000     19.341235       23.341235    364.000000   2022.000000   \n",
       "\n",
       "              delay  \n",
       "count  71175.000000  \n",
       "mean      12.548378  \n",
       "std       23.125349  \n",
       "min      -41.028033  \n",
       "25%       -4.412876  \n",
       "50%        9.740454  \n",
       "75%       27.650853  \n",
       "max      125.632352  "
      ]
     },
     "execution_count": 6,
     "metadata": {},
     "output_type": "execute_result"
    }
   ],
   "source": [
    "dados.describe()"
   ]
  },
  {
   "cell_type": "markdown",
   "metadata": {},
   "source": [
    "Além disso, é possível obter as estatística descritivas para as variáveis categóricas: df.describe(include=['O'])."
   ]
  },
  {
   "cell_type": "code",
   "execution_count": 7,
   "metadata": {},
   "outputs": [
    {
     "data": {
      "text/html": [
       "<div>\n",
       "<style scoped>\n",
       "    .dataframe tbody tr th:only-of-type {\n",
       "        vertical-align: middle;\n",
       "    }\n",
       "\n",
       "    .dataframe tbody tr th {\n",
       "        vertical-align: top;\n",
       "    }\n",
       "\n",
       "    .dataframe thead th {\n",
       "        text-align: right;\n",
       "    }\n",
       "</style>\n",
       "<table border=\"1\" class=\"dataframe\">\n",
       "  <thead>\n",
       "    <tr style=\"text-align: right;\">\n",
       "      <th></th>\n",
       "      <th>airline</th>\n",
       "      <th>aircraft_type</th>\n",
       "      <th>schengen</th>\n",
       "      <th>origin</th>\n",
       "    </tr>\n",
       "  </thead>\n",
       "  <tbody>\n",
       "    <tr>\n",
       "      <th>count</th>\n",
       "      <td>71175</td>\n",
       "      <td>71175</td>\n",
       "      <td>71175</td>\n",
       "      <td>71175</td>\n",
       "    </tr>\n",
       "    <tr>\n",
       "      <th>unique</th>\n",
       "      <td>3</td>\n",
       "      <td>6</td>\n",
       "      <td>2</td>\n",
       "      <td>10</td>\n",
       "    </tr>\n",
       "    <tr>\n",
       "      <th>top</th>\n",
       "      <td>BZ</td>\n",
       "      <td>Airbus A320</td>\n",
       "      <td>schengen</td>\n",
       "      <td>TZF</td>\n",
       "    </tr>\n",
       "    <tr>\n",
       "      <th>freq</th>\n",
       "      <td>47598</td>\n",
       "      <td>30778</td>\n",
       "      <td>42569</td>\n",
       "      <td>14162</td>\n",
       "    </tr>\n",
       "  </tbody>\n",
       "</table>\n",
       "</div>"
      ],
      "text/plain": [
       "       airline aircraft_type  schengen origin\n",
       "count    71175         71175     71175  71175\n",
       "unique       3             6         2     10\n",
       "top         BZ   Airbus A320  schengen    TZF\n",
       "freq     47598         30778     42569  14162"
      ]
     },
     "execution_count": 7,
     "metadata": {},
     "output_type": "execute_result"
    }
   ],
   "source": [
    "dados.describe(include='O')"
   ]
  },
  {
   "cell_type": "code",
   "execution_count": 8,
   "metadata": {},
   "outputs": [
    {
     "name": "stdout",
     "output_type": "stream",
     "text": [
      "<class 'pandas.core.frame.DataFrame'>\n",
      "RangeIndex: 71175 entries, 0 to 71174\n",
      "Data columns (total 11 columns):\n",
      " #   Column          Non-Null Count  Dtype  \n",
      "---  ------          --------------  -----  \n",
      " 0   flight_id       71175 non-null  int64  \n",
      " 1   airline         71175 non-null  object \n",
      " 2   aircraft_type   71175 non-null  object \n",
      " 3   schengen        71175 non-null  object \n",
      " 4   origin          71175 non-null  object \n",
      " 5   arrival_time    71175 non-null  float64\n",
      " 6   departure_time  71175 non-null  float64\n",
      " 7   day             71175 non-null  int64  \n",
      " 8   year            71175 non-null  int64  \n",
      " 9   is_holiday      71175 non-null  bool   \n",
      " 10  delay           71175 non-null  float64\n",
      "dtypes: bool(1), float64(3), int64(3), object(4)\n",
      "memory usage: 5.5+ MB\n"
     ]
    }
   ],
   "source": [
    "dados.info()"
   ]
  },
  {
   "cell_type": "markdown",
   "metadata": {},
   "source": [
    "### Módulo 1 - Explorando dados - aula 5 - Visualizações gráficas dos dados"
   ]
  },
  {
   "cell_type": "code",
   "execution_count": 9,
   "metadata": {},
   "outputs": [],
   "source": [
    "import matplotlib.pyplot as plt\n",
    "import seaborn as sns"
   ]
  },
  {
   "cell_type": "code",
   "execution_count": 10,
   "metadata": {},
   "outputs": [
    {
     "data": {
      "image/png": "[encoded data removed]",
      "text/plain": [
       "<Figure size 800x550 with 1 Axes>"
      ]
     },
     "metadata": {},
     "output_type": "display_data"
    },
    {
     "data": {
      "image/png": "[encoded data removed]",
      "text/plain": [
       "<Figure size 800x550 with 1 Axes>"
      ]
     },
     "metadata": {},
     "output_type": "display_data"
    }
   ],
   "source": [
    "# Criar gráfico para visualizar a distribuição da média dos atrasos por companhia aérea\n",
    "average_delay = dados.groupby('airline')['delay'].mean().reset_index()\n",
    "sns.barplot(x='airline', y='delay', data=average_delay)\n",
    "plt.title('Companhias aéreas vs atrasos médios')\n",
    "plt.xlabel('Companhias aéreas')\n",
    "plt.ylabel('Atraso médio em minutos')\n",
    "plt.show()\n",
    "# Criar gráfico de barras para visualizar o número de voos por companhia aérea\n",
    "sns.countplot(data=dados, x='airline')\n",
    "plt.title('Número de voos por companhia aérea')\n",
    "plt.xlabel('Companhia aérea')\n",
    "plt.ylabel('Número de voos')\n",
    "plt.show()"
   ]
  },
  {
   "cell_type": "code",
   "execution_count": 11,
   "metadata": {},
   "outputs": [
    {
     "data": {
      "image/png": "[encoded data removed]",
      "text/plain": [
       "<Figure size 800x550 with 1 Axes>"
      ]
     },
     "metadata": {},
     "output_type": "display_data"
    },
    {
     "data": {
      "image/png": "[encoded data removed]",
      "text/plain": [
       "<Figure size 800x550 with 1 Axes>"
      ]
     },
     "metadata": {},
     "output_type": "display_data"
    }
   ],
   "source": [
    "# Criar gráfico para visualizar a distribuição dos atrasos médios por tipo de voo\n",
    "average_delay = dados.groupby('schengen')['delay'].mean().reset_index()\n",
    "sns.barplot(x='schengen', y='delay', data=average_delay)\n",
    "plt.title('Tipo do voo vs atrasos médios')\n",
    "plt.xlabel('Tipo do voo')\n",
    "plt.ylabel('Atraso médio em minutos')\n",
    "plt.show()\n",
    "# Criar gráfico de barras para visualizar o número de voos por tipo de voo\n",
    "sns.countplot(data=dados, x='schengen')\n",
    "plt.title('Número de voos por tipo do voo')\n",
    "plt.xlabel('Tipo do voo')\n",
    "plt.ylabel('Número de voos')\n",
    "plt.show()"
   ]
  },
  {
   "cell_type": "code",
   "execution_count": 12,
   "metadata": {},
   "outputs": [
    {
     "data": {
      "image/png": "[encoded data removed]",
      "text/plain": [
       "<Figure size 800x550 with 1 Axes>"
      ]
     },
     "metadata": {},
     "output_type": "display_data"
    }
   ],
   "source": [
    "# Criar gráfico para visualizar a distribuição dos atrasos médios em feriados\n",
    "average_delay = dados.groupby('is_holiday')['delay'].mean().reset_index()\n",
    "sns.barplot(x='is_holiday', y='delay', data=average_delay)\n",
    "plt.title('Feriado vs atrasos médios')\n",
    "plt.xlabel('É feriado?')\n",
    "plt.ylabel('Atraso médio em minutos')\n",
    "plt.show()"
   ]
  },
  {
   "cell_type": "code",
   "execution_count": 13,
   "metadata": {},
   "outputs": [
    {
     "data": {
      "image/png": "[encoded data removed]",
      "text/plain": [
       "<Figure size 800x550 with 1 Axes>"
      ]
     },
     "metadata": {},
     "output_type": "display_data"
    }
   ],
   "source": [
    "# Criar gráfico de barras para visualizar o número de voos por tipo de aeronave\n",
    "order = dados['aircraft_type'].value_counts().index\n",
    "sns.countplot(data=dados, x='aircraft_type', order = order)\n",
    "plt.title('Número de voos por tipo da aeronave')\n",
    "plt.xticks(rotation=0)\n",
    "plt.xlabel('Tipo da aeronave')\n",
    "plt.ylabel('Número de voos')\n",
    "plt.show()"
   ]
  },
  {
   "cell_type": "markdown",
   "metadata": {},
   "source": [
    "### Módulo 1 - Explorando os dados - Aula 7 - Analisando a distribuição dos dados"
   ]
  },
  {
   "cell_type": "code",
   "execution_count": 14,
   "metadata": {},
   "outputs": [
    {
     "data": {
      "text/plain": [
       "<AxesSubplot: xlabel='arrival_time', ylabel='Count'>"
      ]
     },
     "execution_count": 14,
     "metadata": {},
     "output_type": "execute_result"
    },
    {
     "data": {
      "image/png": "[encoded data removed]",
      "text/plain": [
       "<Figure size 800x550 with 1 Axes>"
      ]
     },
     "metadata": {},
     "output_type": "display_data"
    }
   ],
   "source": [
    "# Criar gráfico de histograma para a distribuição dos atrasos por hora de chegada com curva KDE sem binning\n",
    "sns.histplot(data=dados, x='arrival_time', kde=True)"
   ]
  },
  {
   "cell_type": "code",
   "execution_count": 15,
   "metadata": {},
   "outputs": [
    {
     "data": {
      "text/plain": [
       "<AxesSubplot: xlabel='arrival_time', ylabel='Count'>"
      ]
     },
     "execution_count": 15,
     "metadata": {},
     "output_type": "execute_result"
    },
    {
     "data": {
      "image/png": "[encoded data removed]",
      "text/plain": [
       "<Figure size 800x550 with 1 Axes>"
      ]
     },
     "metadata": {},
     "output_type": "display_data"
    }
   ],
   "source": [
    "# Criar gráfico de histograma para a distribuição dos atrasos por hora de chegada com curva KDE com binning\n",
    "sns.histplot(data=dados, x='arrival_time', kde=True, bins=10)"
   ]
  },
  {
   "cell_type": "code",
   "execution_count": 16,
   "metadata": {},
   "outputs": [],
   "source": [
    "import numpy as np\n",
    "# Função para calcular a largura do bin aplicando a regra de Freedman-Diaconis\n",
    "def calcular_largura_bin(df, coluna):\n",
    "    Q75, Q25 = np.percentile(df[coluna], [75 ,25])\n",
    "    IQR = Q75 - Q25\n",
    "    largura_bin = 2 * IQR * np.power(len(df[coluna]), -1/3)\n",
    "    return largura_bin"
   ]
  },
  {
   "cell_type": "code",
   "execution_count": 17,
   "metadata": {},
   "outputs": [
    {
     "data": {
      "text/plain": [
       "<AxesSubplot: xlabel='arrival_time', ylabel='Count'>"
      ]
     },
     "execution_count": 17,
     "metadata": {},
     "output_type": "execute_result"
    },
    {
     "data": {
      "image/png": "[encoded data removed]",
      "text/plain": [
       "<Figure size 800x550 with 1 Axes>"
      ]
     },
     "metadata": {},
     "output_type": "display_data"
    }
   ],
   "source": [
    "# Criar gráfico de histograma para a distribuição dos atrasos por número de voos de chegada\n",
    "largura_bin_at = calcular_largura_bin(dados, 'arrival_time')\n",
    "\n",
    "sns.histplot(data=dados, x='arrival_time', kde=True, binwidth=largura_bin_at)"
   ]
  },
  {
   "cell_type": "code",
   "execution_count": 18,
   "metadata": {},
   "outputs": [
    {
     "data": {
      "text/plain": [
       "<AxesSubplot: xlabel='departure_time', ylabel='Count'>"
      ]
     },
     "execution_count": 18,
     "metadata": {},
     "output_type": "execute_result"
    },
    {
     "data": {
      "image/png": "[encoded data removed]",
      "text/plain": [
       "<Figure size 800x550 with 1 Axes>"
      ]
     },
     "metadata": {},
     "output_type": "display_data"
    }
   ],
   "source": [
    "# Criar gráfico de histograma para a distribuição dos atrasos por número de voos\n",
    "largura_bin_dt = calcular_largura_bin(dados, 'departure_time')\n",
    "\n",
    "sns.histplot(data=dados, x='departure_time', kde=True, binwidth=largura_bin_dt)"
   ]
  },
  {
   "cell_type": "code",
   "execution_count": 19,
   "metadata": {},
   "outputs": [
    {
     "data": {
      "image/png": "[encoded data removed]",
      "text/plain": [
       "<Figure size 900x400 with 2 Axes>"
      ]
     },
     "metadata": {},
     "output_type": "display_data"
    }
   ],
   "source": [
    "# Criar média e mediana dos atrasos\n",
    "mean_delay = dados['delay'].mean()\n",
    "median_delay = dados['delay'].median()\n",
    "\n",
    "fig, axes = plt.subplots(1, 2, figsize=(9, 4))\n",
    "\n",
    "# Criar gráfico de boxplot para visualizar a distribuição dos atrasos\n",
    "sns.boxplot(data=dados, y='delay', ax=axes[0])\n",
    "axes[0].set_title('Boxplot')\n",
    "\n",
    "axes[0].axhline(y=mean_delay, color='r', linestyle='--', label='Média')\n",
    "axes[0].legend()\n",
    "\n",
    "# Criar gráfico de histograma para a distribuição dos atrasos por número de voos\n",
    "largura_bin_delay = calcular_largura_bin(dados, 'delay')\n",
    "sns.histplot(data=dados, x='delay', ax=axes[1], kde=True, binwidth=largura_bin_delay)\n",
    "plt.ylabel('Número de voos')\n",
    "plt.grid(False)\n",
    "axes[1].set_title('Histograma')\n",
    "\n",
    "axes[1].axvline(x=mean_delay, color='r', linestyle='--', label='Média')\n",
    "axes[1].axvline(x=median_delay, color='y', linestyle='--', label='Mediana')\n",
    "axes[1].legend()\n",
    "\n",
    "plt.tight_layout()\n",
    "plt.show()"
   ]
  },
  {
   "cell_type": "markdown",
   "metadata": {},
   "source": [
    "### Módulo 2 - Feature engineering - Aula 2 - Criando novas colunas"
   ]
  },
  {
   "cell_type": "markdown",
   "metadata": {},
   "source": [
    "Feature engineering é um conceito fundamental no campo da ciência de dados e aprendizado de máquina, e desempenha um papel crucial no processo de desenvolvimento de modelos preditivos e analíticos. Essa técnica envolve a criação, transformação e seleção de variáveis, também conhecidas como \"features\", a partir dos dados brutos disponíveis, a fim de melhorar o desempenho dos modelos. Mas o que seriam features?\n",
    "\n",
    "O que são features?\n",
    "Features são as variáveis ou atributos que um modelo de machine learning utiliza para fazer previsões ou classificações. Elas representam as informações que o modelo tem à sua disposição para aprender padrões nos dados. Por exemplo, se estivermos construindo um modelo para prever o preço de uma casa, as features podem incluir o número de quartos, a metragem quadrada, a localização geográfica, a proximidade de escolas, entre outras."
   ]
  },
  {
   "cell_type": "code",
   "execution_count": 20,
   "metadata": {},
   "outputs": [
    {
     "data": {
      "text/html": [
       "<div>\n",
       "<style scoped>\n",
       "    .dataframe tbody tr th:only-of-type {\n",
       "        vertical-align: middle;\n",
       "    }\n",
       "\n",
       "    .dataframe tbody tr th {\n",
       "        vertical-align: top;\n",
       "    }\n",
       "\n",
       "    .dataframe thead th {\n",
       "        text-align: right;\n",
       "    }\n",
       "</style>\n",
       "<table border=\"1\" class=\"dataframe\">\n",
       "  <thead>\n",
       "    <tr style=\"text-align: right;\">\n",
       "      <th></th>\n",
       "      <th>flight_id</th>\n",
       "      <th>airline</th>\n",
       "      <th>aircraft_type</th>\n",
       "      <th>schengen</th>\n",
       "      <th>origin</th>\n",
       "      <th>arrival_time</th>\n",
       "      <th>departure_time</th>\n",
       "      <th>day</th>\n",
       "      <th>year</th>\n",
       "      <th>is_holiday</th>\n",
       "      <th>delay</th>\n",
       "    </tr>\n",
       "  </thead>\n",
       "  <tbody>\n",
       "    <tr>\n",
       "      <th>0</th>\n",
       "      <td>26</td>\n",
       "      <td>MM</td>\n",
       "      <td>Airbus A320</td>\n",
       "      <td>non-schengen</td>\n",
       "      <td>TCY</td>\n",
       "      <td>8.885071</td>\n",
       "      <td>10.885071</td>\n",
       "      <td>0</td>\n",
       "      <td>2010</td>\n",
       "      <td>False</td>\n",
       "      <td>70.205981</td>\n",
       "    </tr>\n",
       "  </tbody>\n",
       "</table>\n",
       "</div>"
      ],
      "text/plain": [
       "   flight_id airline aircraft_type      schengen origin  arrival_time  \\\n",
       "0         26      MM   Airbus A320  non-schengen    TCY      8.885071   \n",
       "\n",
       "   departure_time  day  year  is_holiday      delay  \n",
       "0       10.885071    0  2010       False  70.205981  "
      ]
     },
     "execution_count": 20,
     "metadata": {},
     "output_type": "execute_result"
    }
   ],
   "source": [
    "# Visualizar apenas a primeira linha do DataFrame como amostra\n",
    "dados.head(1)"
   ]
  },
  {
   "cell_type": "code",
   "execution_count": 21,
   "metadata": {},
   "outputs": [
    {
     "data": {
      "text/plain": [
       "0        2010\n",
       "1        2010\n",
       "2        2010\n",
       "3        2010\n",
       "4        2010\n",
       "         ... \n",
       "71170    2022\n",
       "71171    2022\n",
       "71172    2022\n",
       "71173    2022\n",
       "71174    2022\n",
       "Name: year, Length: 71175, dtype: object"
      ]
     },
     "execution_count": 21,
     "metadata": {},
     "output_type": "execute_result"
    }
   ],
   "source": [
    "# Visuaizar a coluna 'year' como string\n",
    "dados['year'].astype(str)"
   ]
  },
  {
   "cell_type": "code",
   "execution_count": 22,
   "metadata": {},
   "outputs": [
    {
     "data": {
      "text/plain": [
       "0          0\n",
       "1          0\n",
       "2          0\n",
       "3          0\n",
       "4          0\n",
       "        ... \n",
       "71170    364\n",
       "71171    364\n",
       "71172    364\n",
       "71173    364\n",
       "71174    364\n",
       "Name: day, Length: 71175, dtype: object"
      ]
     },
     "execution_count": 22,
     "metadata": {},
     "output_type": "execute_result"
    }
   ],
   "source": [
    "# Visualizar a coluna 'day' como string\n",
    "dados['day'].astype(str)"
   ]
  },
  {
   "cell_type": "code",
   "execution_count": 23,
   "metadata": {},
   "outputs": [
    {
     "data": {
      "text/plain": [
       "0          1\n",
       "1          1\n",
       "2          1\n",
       "3          1\n",
       "4          1\n",
       "        ... \n",
       "71170    365\n",
       "71171    365\n",
       "71172    365\n",
       "71173    365\n",
       "71174    365\n",
       "Name: day, Length: 71175, dtype: object"
      ]
     },
     "execution_count": 23,
     "metadata": {},
     "output_type": "execute_result"
    }
   ],
   "source": [
    "# Visualizar a coluna 'day' como string com incremento de 1\n",
    "(dados['day'] + 1).astype(str)"
   ]
  },
  {
   "cell_type": "code",
   "execution_count": 24,
   "metadata": {},
   "outputs": [
    {
     "data": {
      "text/plain": [
       "0          2010-1\n",
       "1          2010-1\n",
       "2          2010-1\n",
       "3          2010-1\n",
       "4          2010-1\n",
       "           ...   \n",
       "71170    2022-365\n",
       "71171    2022-365\n",
       "71172    2022-365\n",
       "71173    2022-365\n",
       "71174    2022-365\n",
       "Length: 71175, dtype: object"
      ]
     },
     "execution_count": 24,
     "metadata": {},
     "output_type": "execute_result"
    }
   ],
   "source": [
    "# Criar uma nova coluna 'date' combinando 'year' e 'day'\n",
    "dados['year'].astype(str) + '-' + (dados['day'] + 1).astype(str)"
   ]
  },
  {
   "cell_type": "markdown",
   "metadata": {},
   "source": [
    "Criar uma coluna com a data.\n",
    "\n",
    "Por que day + 1?\n",
    "Porque os dias do ano começam em 1, não em 0.\n",
    "Então:\n",
    "\n",
    "day = 0 → 1º de janeiro\n",
    "\n",
    "day = 364 → 31 de dezembro (ou 30, se for ano bissexto)"
   ]
  },
  {
   "cell_type": "code",
   "execution_count": null,
   "metadata": {},
   "outputs": [
    {
     "data": {
      "text/html": [
       "<div>\n",
       "<style scoped>\n",
       "    .dataframe tbody tr th:only-of-type {\n",
       "        vertical-align: middle;\n",
       "    }\n",
       "\n",
       "    .dataframe tbody tr th {\n",
       "        vertical-align: top;\n",
       "    }\n",
       "\n",
       "    .dataframe thead th {\n",
       "        text-align: right;\n",
       "    }\n",
       "</style>\n",
       "<table border=\"1\" class=\"dataframe\">\n",
       "  <thead>\n",
       "    <tr style=\"text-align: right;\">\n",
       "      <th></th>\n",
       "      <th>flight_id</th>\n",
       "      <th>airline</th>\n",
       "      <th>aircraft_type</th>\n",
       "      <th>schengen</th>\n",
       "      <th>origin</th>\n",
       "      <th>arrival_time</th>\n",
       "      <th>departure_time</th>\n",
       "      <th>day</th>\n",
       "      <th>year</th>\n",
       "      <th>is_holiday</th>\n",
       "      <th>delay</th>\n",
       "      <th>date</th>\n",
       "    </tr>\n",
       "  </thead>\n",
       "  <tbody>\n",
       "    <tr>\n",
       "      <th>0</th>\n",
       "      <td>26</td>\n",
       "      <td>MM</td>\n",
       "      <td>Airbus A320</td>\n",
       "      <td>non-schengen</td>\n",
       "      <td>TCY</td>\n",
       "      <td>8.885071</td>\n",
       "      <td>10.885071</td>\n",
       "      <td>0</td>\n",
       "      <td>2010</td>\n",
       "      <td>False</td>\n",
       "      <td>70.205981</td>\n",
       "      <td>2010-01-01</td>\n",
       "    </tr>\n",
       "    <tr>\n",
       "      <th>1</th>\n",
       "      <td>10</td>\n",
       "      <td>YE</td>\n",
       "      <td>Airbus A320</td>\n",
       "      <td>non-schengen</td>\n",
       "      <td>TCY</td>\n",
       "      <td>8.939996</td>\n",
       "      <td>11.939996</td>\n",
       "      <td>0</td>\n",
       "      <td>2010</td>\n",
       "      <td>False</td>\n",
       "      <td>38.484609</td>\n",
       "      <td>2010-01-01</td>\n",
       "    </tr>\n",
       "    <tr>\n",
       "      <th>2</th>\n",
       "      <td>3</td>\n",
       "      <td>BZ</td>\n",
       "      <td>Embraer E175</td>\n",
       "      <td>schengen</td>\n",
       "      <td>TZF</td>\n",
       "      <td>18.635384</td>\n",
       "      <td>22.635384</td>\n",
       "      <td>0</td>\n",
       "      <td>2010</td>\n",
       "      <td>False</td>\n",
       "      <td>2.388305</td>\n",
       "      <td>2010-01-01</td>\n",
       "    </tr>\n",
       "    <tr>\n",
       "      <th>3</th>\n",
       "      <td>28</td>\n",
       "      <td>BZ</td>\n",
       "      <td>Airbus A330</td>\n",
       "      <td>non-schengen</td>\n",
       "      <td>EMM</td>\n",
       "      <td>15.967963</td>\n",
       "      <td>17.967963</td>\n",
       "      <td>0</td>\n",
       "      <td>2010</td>\n",
       "      <td>False</td>\n",
       "      <td>19.138491</td>\n",
       "      <td>2010-01-01</td>\n",
       "    </tr>\n",
       "    <tr>\n",
       "      <th>4</th>\n",
       "      <td>15</td>\n",
       "      <td>BZ</td>\n",
       "      <td>Airbus A330</td>\n",
       "      <td>non-schengen</td>\n",
       "      <td>FJB</td>\n",
       "      <td>16.571894</td>\n",
       "      <td>19.571894</td>\n",
       "      <td>0</td>\n",
       "      <td>2010</td>\n",
       "      <td>False</td>\n",
       "      <td>15.016271</td>\n",
       "      <td>2010-01-01</td>\n",
       "    </tr>\n",
       "  </tbody>\n",
       "</table>\n",
       "</div>"
      ],
      "text/plain": [
       "   flight_id airline aircraft_type      schengen origin  arrival_time  \\\n",
       "0         26      MM   Airbus A320  non-schengen    TCY      8.885071   \n",
       "1         10      YE   Airbus A320  non-schengen    TCY      8.939996   \n",
       "2          3      BZ  Embraer E175      schengen    TZF     18.635384   \n",
       "3         28      BZ   Airbus A330  non-schengen    EMM     15.967963   \n",
       "4         15      BZ   Airbus A330  non-schengen    FJB     16.571894   \n",
       "\n",
       "   departure_time  day  year  is_holiday      delay       date  \n",
       "0       10.885071    0  2010       False  70.205981 2010-01-01  \n",
       "1       11.939996    0  2010       False  38.484609 2010-01-01  \n",
       "2       22.635384    0  2010       False   2.388305 2010-01-01  \n",
       "3       17.967963    0  2010       False  19.138491 2010-01-01  \n",
       "4       19.571894    0  2010       False  15.016271 2010-01-01  "
      ]
     },
     "execution_count": 25,
     "metadata": {},
     "output_type": "execute_result"
    }
   ],
   "source": [
    "# Criar uma nova coluna 'date' convertendo para datetime\n",
    "dados['date'] = pd.to_datetime(dados['year'].astype(str) + '-' + (dados['day'] + 1).astype(str), format='%Y-%j')\n",
    "dados.head()"
   ]
  },
  {
   "cell_type": "code",
   "execution_count": null,
   "metadata": {},
   "outputs": [],
   "source": [
    "# Criar uma nova coluna 'is_weekend' para identificar se a data é um final de semana\n",
    "dados['is_weekend'] = dados['date'].dt.weekday.isin([5,6])"
   ]
  },
  {
   "cell_type": "code",
   "execution_count": null,
   "metadata": {},
   "outputs": [
    {
     "data": {
      "text/html": [
       "<div>\n",
       "<style scoped>\n",
       "    .dataframe tbody tr th:only-of-type {\n",
       "        vertical-align: middle;\n",
       "    }\n",
       "\n",
       "    .dataframe tbody tr th {\n",
       "        vertical-align: top;\n",
       "    }\n",
       "\n",
       "    .dataframe thead th {\n",
       "        text-align: right;\n",
       "    }\n",
       "</style>\n",
       "<table border=\"1\" class=\"dataframe\">\n",
       "  <thead>\n",
       "    <tr style=\"text-align: right;\">\n",
       "      <th></th>\n",
       "      <th>flight_id</th>\n",
       "      <th>airline</th>\n",
       "      <th>aircraft_type</th>\n",
       "      <th>schengen</th>\n",
       "      <th>origin</th>\n",
       "      <th>arrival_time</th>\n",
       "      <th>departure_time</th>\n",
       "      <th>day</th>\n",
       "      <th>year</th>\n",
       "      <th>is_holiday</th>\n",
       "      <th>delay</th>\n",
       "      <th>date</th>\n",
       "      <th>is_weekend</th>\n",
       "      <th>day_name</th>\n",
       "    </tr>\n",
       "  </thead>\n",
       "  <tbody>\n",
       "    <tr>\n",
       "      <th>0</th>\n",
       "      <td>26</td>\n",
       "      <td>MM</td>\n",
       "      <td>Airbus A320</td>\n",
       "      <td>non-schengen</td>\n",
       "      <td>TCY</td>\n",
       "      <td>8.885071</td>\n",
       "      <td>10.885071</td>\n",
       "      <td>0</td>\n",
       "      <td>2010</td>\n",
       "      <td>False</td>\n",
       "      <td>70.205981</td>\n",
       "      <td>2010-01-01</td>\n",
       "      <td>False</td>\n",
       "      <td>Friday</td>\n",
       "    </tr>\n",
       "    <tr>\n",
       "      <th>1</th>\n",
       "      <td>10</td>\n",
       "      <td>YE</td>\n",
       "      <td>Airbus A320</td>\n",
       "      <td>non-schengen</td>\n",
       "      <td>TCY</td>\n",
       "      <td>8.939996</td>\n",
       "      <td>11.939996</td>\n",
       "      <td>0</td>\n",
       "      <td>2010</td>\n",
       "      <td>False</td>\n",
       "      <td>38.484609</td>\n",
       "      <td>2010-01-01</td>\n",
       "      <td>False</td>\n",
       "      <td>Friday</td>\n",
       "    </tr>\n",
       "    <tr>\n",
       "      <th>2</th>\n",
       "      <td>3</td>\n",
       "      <td>BZ</td>\n",
       "      <td>Embraer E175</td>\n",
       "      <td>schengen</td>\n",
       "      <td>TZF</td>\n",
       "      <td>18.635384</td>\n",
       "      <td>22.635384</td>\n",
       "      <td>0</td>\n",
       "      <td>2010</td>\n",
       "      <td>False</td>\n",
       "      <td>2.388305</td>\n",
       "      <td>2010-01-01</td>\n",
       "      <td>False</td>\n",
       "      <td>Friday</td>\n",
       "    </tr>\n",
       "    <tr>\n",
       "      <th>3</th>\n",
       "      <td>28</td>\n",
       "      <td>BZ</td>\n",
       "      <td>Airbus A330</td>\n",
       "      <td>non-schengen</td>\n",
       "      <td>EMM</td>\n",
       "      <td>15.967963</td>\n",
       "      <td>17.967963</td>\n",
       "      <td>0</td>\n",
       "      <td>2010</td>\n",
       "      <td>False</td>\n",
       "      <td>19.138491</td>\n",
       "      <td>2010-01-01</td>\n",
       "      <td>False</td>\n",
       "      <td>Friday</td>\n",
       "    </tr>\n",
       "    <tr>\n",
       "      <th>4</th>\n",
       "      <td>15</td>\n",
       "      <td>BZ</td>\n",
       "      <td>Airbus A330</td>\n",
       "      <td>non-schengen</td>\n",
       "      <td>FJB</td>\n",
       "      <td>16.571894</td>\n",
       "      <td>19.571894</td>\n",
       "      <td>0</td>\n",
       "      <td>2010</td>\n",
       "      <td>False</td>\n",
       "      <td>15.016271</td>\n",
       "      <td>2010-01-01</td>\n",
       "      <td>False</td>\n",
       "      <td>Friday</td>\n",
       "    </tr>\n",
       "  </tbody>\n",
       "</table>\n",
       "</div>"
      ],
      "text/plain": [
       "   flight_id airline aircraft_type      schengen origin  arrival_time  \\\n",
       "0         26      MM   Airbus A320  non-schengen    TCY      8.885071   \n",
       "1         10      YE   Airbus A320  non-schengen    TCY      8.939996   \n",
       "2          3      BZ  Embraer E175      schengen    TZF     18.635384   \n",
       "3         28      BZ   Airbus A330  non-schengen    EMM     15.967963   \n",
       "4         15      BZ   Airbus A330  non-schengen    FJB     16.571894   \n",
       "\n",
       "   departure_time  day  year  is_holiday      delay       date  is_weekend  \\\n",
       "0       10.885071    0  2010       False  70.205981 2010-01-01       False   \n",
       "1       11.939996    0  2010       False  38.484609 2010-01-01       False   \n",
       "2       22.635384    0  2010       False   2.388305 2010-01-01       False   \n",
       "3       17.967963    0  2010       False  19.138491 2010-01-01       False   \n",
       "4       19.571894    0  2010       False  15.016271 2010-01-01       False   \n",
       "\n",
       "  day_name  \n",
       "0   Friday  \n",
       "1   Friday  \n",
       "2   Friday  \n",
       "3   Friday  \n",
       "4   Friday  "
      ]
     },
     "execution_count": 30,
     "metadata": {},
     "output_type": "execute_result"
    }
   ],
   "source": [
    "# Criar uma nova coluna 'day_name' com o nome do dia da semana\n",
    "dados['day_name'] = dados['date'].dt.day_name()\n",
    "dados.head()"
   ]
  },
  {
   "cell_type": "markdown",
   "metadata": {},
   "source": [
    "### Módulo 2 - Feature engineering - Aula 5 - Feature encoding"
   ]
  },
  {
   "cell_type": "code",
   "execution_count": null,
   "metadata": {},
   "outputs": [
    {
     "data": {
      "text/plain": [
       "flight_id            30\n",
       "airline               3\n",
       "aircraft_type         6\n",
       "schengen              2\n",
       "origin               10\n",
       "arrival_time         30\n",
       "departure_time       30\n",
       "day                 365\n",
       "year                 13\n",
       "is_holiday            2\n",
       "delay             71175\n",
       "date               4745\n",
       "is_weekend            2\n",
       "day_name              7\n",
       "dtype: int64"
      ]
     },
     "execution_count": 31,
     "metadata": {},
     "output_type": "execute_result"
    }
   ],
   "source": [
    "# Visualizar os valores únicos no DataFrame\n",
    "dados.nunique()"
   ]
  },
  {
   "cell_type": "code",
   "execution_count": null,
   "metadata": {},
   "outputs": [
    {
     "data": {
      "text/plain": [
       "array(['non-schengen', 'schengen'], dtype=object)"
      ]
     },
     "execution_count": 33,
     "metadata": {},
     "output_type": "execute_result"
    }
   ],
   "source": [
    "# Visualizar os valores únicos na coluna 'schengen'\n",
    "dados['schengen'].unique()"
   ]
  },
  {
   "cell_type": "code",
   "execution_count": null,
   "metadata": {},
   "outputs": [
    {
     "data": {
      "text/plain": [
       "array([False,  True])"
      ]
     },
     "execution_count": 34,
     "metadata": {},
     "output_type": "execute_result"
    }
   ],
   "source": [
    "# Visualizar os valores únicos na coluna 'is_weekend'\n",
    "dados['is_holiday'].unique()"
   ]
  },
  {
   "cell_type": "code",
   "execution_count": null,
   "metadata": {},
   "outputs": [
    {
     "data": {
      "text/plain": [
       "array([False,  True])"
      ]
     },
     "execution_count": 35,
     "metadata": {},
     "output_type": "execute_result"
    }
   ],
   "source": [
    "# Visualizar os valores únicos da coluna 'is_weekend'\n",
    "dados['is_weekend'].unique()"
   ]
  },
  {
   "cell_type": "code",
   "execution_count": null,
   "metadata": {},
   "outputs": [
    {
     "data": {
      "text/html": [
       "<div>\n",
       "<style scoped>\n",
       "    .dataframe tbody tr th:only-of-type {\n",
       "        vertical-align: middle;\n",
       "    }\n",
       "\n",
       "    .dataframe tbody tr th {\n",
       "        vertical-align: top;\n",
       "    }\n",
       "\n",
       "    .dataframe thead th {\n",
       "        text-align: right;\n",
       "    }\n",
       "</style>\n",
       "<table border=\"1\" class=\"dataframe\">\n",
       "  <thead>\n",
       "    <tr style=\"text-align: right;\">\n",
       "      <th></th>\n",
       "      <th>flight_id</th>\n",
       "      <th>airline</th>\n",
       "      <th>aircraft_type</th>\n",
       "      <th>schengen</th>\n",
       "      <th>origin</th>\n",
       "      <th>arrival_time</th>\n",
       "      <th>departure_time</th>\n",
       "      <th>day</th>\n",
       "      <th>year</th>\n",
       "      <th>is_holiday</th>\n",
       "      <th>delay</th>\n",
       "      <th>date</th>\n",
       "      <th>is_weekend</th>\n",
       "      <th>day_name</th>\n",
       "    </tr>\n",
       "  </thead>\n",
       "  <tbody>\n",
       "    <tr>\n",
       "      <th>0</th>\n",
       "      <td>26</td>\n",
       "      <td>MM</td>\n",
       "      <td>Airbus A320</td>\n",
       "      <td>0</td>\n",
       "      <td>TCY</td>\n",
       "      <td>8.885071</td>\n",
       "      <td>10.885071</td>\n",
       "      <td>0</td>\n",
       "      <td>2010</td>\n",
       "      <td>0</td>\n",
       "      <td>70.205981</td>\n",
       "      <td>2010-01-01</td>\n",
       "      <td>0</td>\n",
       "      <td>Friday</td>\n",
       "    </tr>\n",
       "    <tr>\n",
       "      <th>1</th>\n",
       "      <td>10</td>\n",
       "      <td>YE</td>\n",
       "      <td>Airbus A320</td>\n",
       "      <td>0</td>\n",
       "      <td>TCY</td>\n",
       "      <td>8.939996</td>\n",
       "      <td>11.939996</td>\n",
       "      <td>0</td>\n",
       "      <td>2010</td>\n",
       "      <td>0</td>\n",
       "      <td>38.484609</td>\n",
       "      <td>2010-01-01</td>\n",
       "      <td>0</td>\n",
       "      <td>Friday</td>\n",
       "    </tr>\n",
       "    <tr>\n",
       "      <th>2</th>\n",
       "      <td>3</td>\n",
       "      <td>BZ</td>\n",
       "      <td>Embraer E175</td>\n",
       "      <td>1</td>\n",
       "      <td>TZF</td>\n",
       "      <td>18.635384</td>\n",
       "      <td>22.635384</td>\n",
       "      <td>0</td>\n",
       "      <td>2010</td>\n",
       "      <td>0</td>\n",
       "      <td>2.388305</td>\n",
       "      <td>2010-01-01</td>\n",
       "      <td>0</td>\n",
       "      <td>Friday</td>\n",
       "    </tr>\n",
       "    <tr>\n",
       "      <th>3</th>\n",
       "      <td>28</td>\n",
       "      <td>BZ</td>\n",
       "      <td>Airbus A330</td>\n",
       "      <td>0</td>\n",
       "      <td>EMM</td>\n",
       "      <td>15.967963</td>\n",
       "      <td>17.967963</td>\n",
       "      <td>0</td>\n",
       "      <td>2010</td>\n",
       "      <td>0</td>\n",
       "      <td>19.138491</td>\n",
       "      <td>2010-01-01</td>\n",
       "      <td>0</td>\n",
       "      <td>Friday</td>\n",
       "    </tr>\n",
       "    <tr>\n",
       "      <th>4</th>\n",
       "      <td>15</td>\n",
       "      <td>BZ</td>\n",
       "      <td>Airbus A330</td>\n",
       "      <td>0</td>\n",
       "      <td>FJB</td>\n",
       "      <td>16.571894</td>\n",
       "      <td>19.571894</td>\n",
       "      <td>0</td>\n",
       "      <td>2010</td>\n",
       "      <td>0</td>\n",
       "      <td>15.016271</td>\n",
       "      <td>2010-01-01</td>\n",
       "      <td>0</td>\n",
       "      <td>Friday</td>\n",
       "    </tr>\n",
       "  </tbody>\n",
       "</table>\n",
       "</div>"
      ],
      "text/plain": [
       "   flight_id airline aircraft_type  schengen origin  arrival_time  \\\n",
       "0         26      MM   Airbus A320         0    TCY      8.885071   \n",
       "1         10      YE   Airbus A320         0    TCY      8.939996   \n",
       "2          3      BZ  Embraer E175         1    TZF     18.635384   \n",
       "3         28      BZ   Airbus A330         0    EMM     15.967963   \n",
       "4         15      BZ   Airbus A330         0    FJB     16.571894   \n",
       "\n",
       "   departure_time  day  year  is_holiday      delay       date  is_weekend  \\\n",
       "0       10.885071    0  2010           0  70.205981 2010-01-01           0   \n",
       "1       11.939996    0  2010           0  38.484609 2010-01-01           0   \n",
       "2       22.635384    0  2010           0   2.388305 2010-01-01           0   \n",
       "3       17.967963    0  2010           0  19.138491 2010-01-01           0   \n",
       "4       19.571894    0  2010           0  15.016271 2010-01-01           0   \n",
       "\n",
       "  day_name  \n",
       "0   Friday  \n",
       "1   Friday  \n",
       "2   Friday  \n",
       "3   Friday  \n",
       "4   Friday  "
      ]
     },
     "execution_count": 37,
     "metadata": {},
     "output_type": "execute_result"
    }
   ],
   "source": [
    "# Substituir (transformar) os valores das colunas categóricas binárias ('schengen'. 'is_holiday' e 'is_weekend'), por 0 e 1\n",
    "dados['schengen'] = dados['schengen'].replace({'non-schengen': 0, 'schengen': 1})\n",
    "dados['is_holiday'] = dados['is_holiday'].replace({False: 0, True: 1})\n",
    "dados['is_weekend'] = dados['is_weekend'].replace({False: 0, True: 1})\n",
    "# Aplica inferência de tipos explicitamente para resolver mensagem de warning\n",
    "dados = dados.infer_objects(copy=False)\n",
    "dados.head()"
   ]
  },
  {
   "cell_type": "code",
   "execution_count": null,
   "metadata": {},
   "outputs": [],
   "source": [
    "# Criar uma lista de variáveis categóricas\n",
    "variaveis_categoricas = ['airline', 'aircraft_type', 'origin', 'day_name']"
   ]
  },
  {
   "cell_type": "code",
   "execution_count": null,
   "metadata": {},
   "outputs": [
    {
     "data": {
      "text/html": [
       "<div>\n",
       "<style scoped>\n",
       "    .dataframe tbody tr th:only-of-type {\n",
       "        vertical-align: middle;\n",
       "    }\n",
       "\n",
       "    .dataframe tbody tr th {\n",
       "        vertical-align: top;\n",
       "    }\n",
       "\n",
       "    .dataframe thead th {\n",
       "        text-align: right;\n",
       "    }\n",
       "</style>\n",
       "<table border=\"1\" class=\"dataframe\">\n",
       "  <thead>\n",
       "    <tr style=\"text-align: right;\">\n",
       "      <th></th>\n",
       "      <th>flight_id</th>\n",
       "      <th>schengen</th>\n",
       "      <th>arrival_time</th>\n",
       "      <th>departure_time</th>\n",
       "      <th>day</th>\n",
       "      <th>year</th>\n",
       "      <th>is_holiday</th>\n",
       "      <th>delay</th>\n",
       "      <th>date</th>\n",
       "      <th>is_weekend</th>\n",
       "      <th>...</th>\n",
       "      <th>origin_TCY</th>\n",
       "      <th>origin_TZF</th>\n",
       "      <th>origin_ZQO</th>\n",
       "      <th>day_name_Friday</th>\n",
       "      <th>day_name_Monday</th>\n",
       "      <th>day_name_Saturday</th>\n",
       "      <th>day_name_Sunday</th>\n",
       "      <th>day_name_Thursday</th>\n",
       "      <th>day_name_Tuesday</th>\n",
       "      <th>day_name_Wednesday</th>\n",
       "    </tr>\n",
       "  </thead>\n",
       "  <tbody>\n",
       "    <tr>\n",
       "      <th>0</th>\n",
       "      <td>26</td>\n",
       "      <td>0</td>\n",
       "      <td>8.885071</td>\n",
       "      <td>10.885071</td>\n",
       "      <td>0</td>\n",
       "      <td>2010</td>\n",
       "      <td>0</td>\n",
       "      <td>70.205981</td>\n",
       "      <td>2010-01-01</td>\n",
       "      <td>0</td>\n",
       "      <td>...</td>\n",
       "      <td>1</td>\n",
       "      <td>0</td>\n",
       "      <td>0</td>\n",
       "      <td>1</td>\n",
       "      <td>0</td>\n",
       "      <td>0</td>\n",
       "      <td>0</td>\n",
       "      <td>0</td>\n",
       "      <td>0</td>\n",
       "      <td>0</td>\n",
       "    </tr>\n",
       "    <tr>\n",
       "      <th>1</th>\n",
       "      <td>10</td>\n",
       "      <td>0</td>\n",
       "      <td>8.939996</td>\n",
       "      <td>11.939996</td>\n",
       "      <td>0</td>\n",
       "      <td>2010</td>\n",
       "      <td>0</td>\n",
       "      <td>38.484609</td>\n",
       "      <td>2010-01-01</td>\n",
       "      <td>0</td>\n",
       "      <td>...</td>\n",
       "      <td>1</td>\n",
       "      <td>0</td>\n",
       "      <td>0</td>\n",
       "      <td>1</td>\n",
       "      <td>0</td>\n",
       "      <td>0</td>\n",
       "      <td>0</td>\n",
       "      <td>0</td>\n",
       "      <td>0</td>\n",
       "      <td>0</td>\n",
       "    </tr>\n",
       "    <tr>\n",
       "      <th>2</th>\n",
       "      <td>3</td>\n",
       "      <td>1</td>\n",
       "      <td>18.635384</td>\n",
       "      <td>22.635384</td>\n",
       "      <td>0</td>\n",
       "      <td>2010</td>\n",
       "      <td>0</td>\n",
       "      <td>2.388305</td>\n",
       "      <td>2010-01-01</td>\n",
       "      <td>0</td>\n",
       "      <td>...</td>\n",
       "      <td>0</td>\n",
       "      <td>1</td>\n",
       "      <td>0</td>\n",
       "      <td>1</td>\n",
       "      <td>0</td>\n",
       "      <td>0</td>\n",
       "      <td>0</td>\n",
       "      <td>0</td>\n",
       "      <td>0</td>\n",
       "      <td>0</td>\n",
       "    </tr>\n",
       "    <tr>\n",
       "      <th>3</th>\n",
       "      <td>28</td>\n",
       "      <td>0</td>\n",
       "      <td>15.967963</td>\n",
       "      <td>17.967963</td>\n",
       "      <td>0</td>\n",
       "      <td>2010</td>\n",
       "      <td>0</td>\n",
       "      <td>19.138491</td>\n",
       "      <td>2010-01-01</td>\n",
       "      <td>0</td>\n",
       "      <td>...</td>\n",
       "      <td>0</td>\n",
       "      <td>0</td>\n",
       "      <td>0</td>\n",
       "      <td>1</td>\n",
       "      <td>0</td>\n",
       "      <td>0</td>\n",
       "      <td>0</td>\n",
       "      <td>0</td>\n",
       "      <td>0</td>\n",
       "      <td>0</td>\n",
       "    </tr>\n",
       "    <tr>\n",
       "      <th>4</th>\n",
       "      <td>15</td>\n",
       "      <td>0</td>\n",
       "      <td>16.571894</td>\n",
       "      <td>19.571894</td>\n",
       "      <td>0</td>\n",
       "      <td>2010</td>\n",
       "      <td>0</td>\n",
       "      <td>15.016271</td>\n",
       "      <td>2010-01-01</td>\n",
       "      <td>0</td>\n",
       "      <td>...</td>\n",
       "      <td>0</td>\n",
       "      <td>0</td>\n",
       "      <td>0</td>\n",
       "      <td>1</td>\n",
       "      <td>0</td>\n",
       "      <td>0</td>\n",
       "      <td>0</td>\n",
       "      <td>0</td>\n",
       "      <td>0</td>\n",
       "      <td>0</td>\n",
       "    </tr>\n",
       "  </tbody>\n",
       "</table>\n",
       "<p>5 rows × 36 columns</p>\n",
       "</div>"
      ],
      "text/plain": [
       "   flight_id  schengen  arrival_time  departure_time  day  year  is_holiday  \\\n",
       "0         26         0      8.885071       10.885071    0  2010           0   \n",
       "1         10         0      8.939996       11.939996    0  2010           0   \n",
       "2          3         1     18.635384       22.635384    0  2010           0   \n",
       "3         28         0     15.967963       17.967963    0  2010           0   \n",
       "4         15         0     16.571894       19.571894    0  2010           0   \n",
       "\n",
       "       delay       date  is_weekend  ...  origin_TCY  origin_TZF  origin_ZQO  \\\n",
       "0  70.205981 2010-01-01           0  ...           1           0           0   \n",
       "1  38.484609 2010-01-01           0  ...           1           0           0   \n",
       "2   2.388305 2010-01-01           0  ...           0           1           0   \n",
       "3  19.138491 2010-01-01           0  ...           0           0           0   \n",
       "4  15.016271 2010-01-01           0  ...           0           0           0   \n",
       "\n",
       "   day_name_Friday  day_name_Monday  day_name_Saturday  day_name_Sunday  \\\n",
       "0                1                0                  0                0   \n",
       "1                1                0                  0                0   \n",
       "2                1                0                  0                0   \n",
       "3                1                0                  0                0   \n",
       "4                1                0                  0                0   \n",
       "\n",
       "   day_name_Thursday  day_name_Tuesday  day_name_Wednesday  \n",
       "0                  0                 0                   0  \n",
       "1                  0                 0                   0  \n",
       "2                  0                 0                   0  \n",
       "3                  0                 0                   0  \n",
       "4                  0                 0                   0  \n",
       "\n",
       "[5 rows x 36 columns]"
      ]
     },
     "execution_count": 40,
     "metadata": {},
     "output_type": "execute_result"
    }
   ],
   "source": [
    "# Aplicar get_dummies para codificar as variáveis categóricas\n",
    "df_encoded = pd.get_dummies(dados, columns=variaveis_categoricas, dtype=int)\n",
    "df_encoded.head()"
   ]
  },
  {
   "cell_type": "markdown",
   "metadata": {},
   "source": [
    "### Módulo 2 - Feature engineering - Aula 7 - Limpando dados"
   ]
  },
  {
   "cell_type": "markdown",
   "metadata": {},
   "source": [
    "As colunas arrival_time (Hora de Chegada) e departure_time (Hora de Saída) possuem praticamente a mesma forma na distribuição da hora de chegada e da hora de saída.\n",
    "\n",
    "Como podemos fazer uma análise mais numérica dessas duas variáveis? Vamos utilizar a análise de correlação.\n",
    "\n",
    "A análise de correlação nos retorna um índice que varia de -1 a 1, onde -1 indica uma correlação negativa perfeita e significa que se uma variável cresce, a outra decresce na mesma proporção, ou seja, são inversas.\n",
    "\n",
    "Já o 1 indica uma correlação positiva perfeita, que mostra que se uma variável cresce, a outra cresce na mesma proporção, ou se uma variável decresce, a outra decresce na mesma proporção.\n",
    "\n",
    "percebemos que uma matriz foi retornada, onde arrival_time com arrival_time é 1, ela com ela mesma é 1, faz sentido, e arrival_time com departure_time é 0.97, que é muito próximo de 1.\n",
    "\n",
    "Isso indica que a correlação está muito próxima de ser uma positiva perfeita. E isso nos dá a informação de que as duas colunas transmitem praticamente a mesma informação, então não faz sentido ter as duas. Vamos remover uma das duas e fica a nosso critério escolher qual remover."
   ]
  },
  {
   "cell_type": "code",
   "execution_count": null,
   "metadata": {},
   "outputs": [
    {
     "data": {
      "text/html": [
       "<div>\n",
       "<style scoped>\n",
       "    .dataframe tbody tr th:only-of-type {\n",
       "        vertical-align: middle;\n",
       "    }\n",
       "\n",
       "    .dataframe tbody tr th {\n",
       "        vertical-align: top;\n",
       "    }\n",
       "\n",
       "    .dataframe thead th {\n",
       "        text-align: right;\n",
       "    }\n",
       "</style>\n",
       "<table border=\"1\" class=\"dataframe\">\n",
       "  <thead>\n",
       "    <tr style=\"text-align: right;\">\n",
       "      <th></th>\n",
       "      <th>arrival_time</th>\n",
       "      <th>departure_time</th>\n",
       "    </tr>\n",
       "  </thead>\n",
       "  <tbody>\n",
       "    <tr>\n",
       "      <th>arrival_time</th>\n",
       "      <td>1.000000</td>\n",
       "      <td>0.973797</td>\n",
       "    </tr>\n",
       "    <tr>\n",
       "      <th>departure_time</th>\n",
       "      <td>0.973797</td>\n",
       "      <td>1.000000</td>\n",
       "    </tr>\n",
       "  </tbody>\n",
       "</table>\n",
       "</div>"
      ],
      "text/plain": [
       "                arrival_time  departure_time\n",
       "arrival_time        1.000000        0.973797\n",
       "departure_time      0.973797        1.000000"
      ]
     },
     "execution_count": 42,
     "metadata": {},
     "output_type": "execute_result"
    }
   ],
   "source": [
    "# Visualizar a correlação entre as colunas 'arrival_time' e 'departure_time'\n",
    "dados[['arrival_time', 'departure_time']].corr()"
   ]
  },
  {
   "cell_type": "code",
   "execution_count": null,
   "metadata": {},
   "outputs": [
    {
     "data": {
      "text/html": [
       "<div>\n",
       "<style scoped>\n",
       "    .dataframe tbody tr th:only-of-type {\n",
       "        vertical-align: middle;\n",
       "    }\n",
       "\n",
       "    .dataframe tbody tr th {\n",
       "        vertical-align: top;\n",
       "    }\n",
       "\n",
       "    .dataframe thead th {\n",
       "        text-align: right;\n",
       "    }\n",
       "</style>\n",
       "<table border=\"1\" class=\"dataframe\">\n",
       "  <thead>\n",
       "    <tr style=\"text-align: right;\">\n",
       "      <th></th>\n",
       "      <th>schengen</th>\n",
       "      <th>arrival_time</th>\n",
       "      <th>is_holiday</th>\n",
       "      <th>delay</th>\n",
       "      <th>is_weekend</th>\n",
       "      <th>airline_BZ</th>\n",
       "      <th>airline_MM</th>\n",
       "      <th>airline_YE</th>\n",
       "      <th>aircraft_type_Airbus A320</th>\n",
       "      <th>aircraft_type_Airbus A330</th>\n",
       "      <th>...</th>\n",
       "      <th>origin_TCY</th>\n",
       "      <th>origin_TZF</th>\n",
       "      <th>origin_ZQO</th>\n",
       "      <th>day_name_Friday</th>\n",
       "      <th>day_name_Monday</th>\n",
       "      <th>day_name_Saturday</th>\n",
       "      <th>day_name_Sunday</th>\n",
       "      <th>day_name_Thursday</th>\n",
       "      <th>day_name_Tuesday</th>\n",
       "      <th>day_name_Wednesday</th>\n",
       "    </tr>\n",
       "  </thead>\n",
       "  <tbody>\n",
       "    <tr>\n",
       "      <th>0</th>\n",
       "      <td>0</td>\n",
       "      <td>8.885071</td>\n",
       "      <td>0</td>\n",
       "      <td>70.205981</td>\n",
       "      <td>0</td>\n",
       "      <td>0</td>\n",
       "      <td>1</td>\n",
       "      <td>0</td>\n",
       "      <td>1</td>\n",
       "      <td>0</td>\n",
       "      <td>...</td>\n",
       "      <td>1</td>\n",
       "      <td>0</td>\n",
       "      <td>0</td>\n",
       "      <td>1</td>\n",
       "      <td>0</td>\n",
       "      <td>0</td>\n",
       "      <td>0</td>\n",
       "      <td>0</td>\n",
       "      <td>0</td>\n",
       "      <td>0</td>\n",
       "    </tr>\n",
       "    <tr>\n",
       "      <th>1</th>\n",
       "      <td>0</td>\n",
       "      <td>8.939996</td>\n",
       "      <td>0</td>\n",
       "      <td>38.484609</td>\n",
       "      <td>0</td>\n",
       "      <td>0</td>\n",
       "      <td>0</td>\n",
       "      <td>1</td>\n",
       "      <td>1</td>\n",
       "      <td>0</td>\n",
       "      <td>...</td>\n",
       "      <td>1</td>\n",
       "      <td>0</td>\n",
       "      <td>0</td>\n",
       "      <td>1</td>\n",
       "      <td>0</td>\n",
       "      <td>0</td>\n",
       "      <td>0</td>\n",
       "      <td>0</td>\n",
       "      <td>0</td>\n",
       "      <td>0</td>\n",
       "    </tr>\n",
       "    <tr>\n",
       "      <th>2</th>\n",
       "      <td>1</td>\n",
       "      <td>18.635384</td>\n",
       "      <td>0</td>\n",
       "      <td>2.388305</td>\n",
       "      <td>0</td>\n",
       "      <td>1</td>\n",
       "      <td>0</td>\n",
       "      <td>0</td>\n",
       "      <td>0</td>\n",
       "      <td>0</td>\n",
       "      <td>...</td>\n",
       "      <td>0</td>\n",
       "      <td>1</td>\n",
       "      <td>0</td>\n",
       "      <td>1</td>\n",
       "      <td>0</td>\n",
       "      <td>0</td>\n",
       "      <td>0</td>\n",
       "      <td>0</td>\n",
       "      <td>0</td>\n",
       "      <td>0</td>\n",
       "    </tr>\n",
       "    <tr>\n",
       "      <th>3</th>\n",
       "      <td>0</td>\n",
       "      <td>15.967963</td>\n",
       "      <td>0</td>\n",
       "      <td>19.138491</td>\n",
       "      <td>0</td>\n",
       "      <td>1</td>\n",
       "      <td>0</td>\n",
       "      <td>0</td>\n",
       "      <td>0</td>\n",
       "      <td>1</td>\n",
       "      <td>...</td>\n",
       "      <td>0</td>\n",
       "      <td>0</td>\n",
       "      <td>0</td>\n",
       "      <td>1</td>\n",
       "      <td>0</td>\n",
       "      <td>0</td>\n",
       "      <td>0</td>\n",
       "      <td>0</td>\n",
       "      <td>0</td>\n",
       "      <td>0</td>\n",
       "    </tr>\n",
       "    <tr>\n",
       "      <th>4</th>\n",
       "      <td>0</td>\n",
       "      <td>16.571894</td>\n",
       "      <td>0</td>\n",
       "      <td>15.016271</td>\n",
       "      <td>0</td>\n",
       "      <td>1</td>\n",
       "      <td>0</td>\n",
       "      <td>0</td>\n",
       "      <td>0</td>\n",
       "      <td>1</td>\n",
       "      <td>...</td>\n",
       "      <td>0</td>\n",
       "      <td>0</td>\n",
       "      <td>0</td>\n",
       "      <td>1</td>\n",
       "      <td>0</td>\n",
       "      <td>0</td>\n",
       "      <td>0</td>\n",
       "      <td>0</td>\n",
       "      <td>0</td>\n",
       "      <td>0</td>\n",
       "    </tr>\n",
       "  </tbody>\n",
       "</table>\n",
       "<p>5 rows × 31 columns</p>\n",
       "</div>"
      ],
      "text/plain": [
       "   schengen  arrival_time  is_holiday      delay  is_weekend  airline_BZ  \\\n",
       "0         0      8.885071           0  70.205981           0           0   \n",
       "1         0      8.939996           0  38.484609           0           0   \n",
       "2         1     18.635384           0   2.388305           0           1   \n",
       "3         0     15.967963           0  19.138491           0           1   \n",
       "4         0     16.571894           0  15.016271           0           1   \n",
       "\n",
       "   airline_MM  airline_YE  aircraft_type_Airbus A320  \\\n",
       "0           1           0                          1   \n",
       "1           0           1                          1   \n",
       "2           0           0                          0   \n",
       "3           0           0                          0   \n",
       "4           0           0                          0   \n",
       "\n",
       "   aircraft_type_Airbus A330  ...  origin_TCY  origin_TZF  origin_ZQO  \\\n",
       "0                          0  ...           1           0           0   \n",
       "1                          0  ...           1           0           0   \n",
       "2                          0  ...           0           1           0   \n",
       "3                          1  ...           0           0           0   \n",
       "4                          1  ...           0           0           0   \n",
       "\n",
       "   day_name_Friday  day_name_Monday  day_name_Saturday  day_name_Sunday  \\\n",
       "0                1                0                  0                0   \n",
       "1                1                0                  0                0   \n",
       "2                1                0                  0                0   \n",
       "3                1                0                  0                0   \n",
       "4                1                0                  0                0   \n",
       "\n",
       "   day_name_Thursday  day_name_Tuesday  day_name_Wednesday  \n",
       "0                  0                 0                   0  \n",
       "1                  0                 0                   0  \n",
       "2                  0                 0                   0  \n",
       "3                  0                 0                   0  \n",
       "4                  0                 0                   0  \n",
       "\n",
       "[5 rows x 31 columns]"
      ]
     },
     "execution_count": 43,
     "metadata": {},
     "output_type": "execute_result"
    }
   ],
   "source": [
    "# Criar DataFrame limpo removendo colunas desnecessárias\n",
    "df_clean = df_encoded.drop(['flight_id', 'departure_time', 'day', 'year', 'date'], axis=1)\n",
    "df_clean.head()"
   ]
  },
  {
   "cell_type": "code",
   "execution_count": null,
   "metadata": {},
   "outputs": [],
   "source": []
  }
 ],
 "metadata": {
  "colab": {
   "authorship_tag": "ABX9TyNAcHMa4C+Q6J7M1CkYm1Tn",
   "provenance": [],
   "toc_visible": true
  },
  "kernelspec": {
   "display_name": "Python 3",
   "name": "python3"
  },
  "language_info": {
   "codemirror_mode": {
    "name": "ipython",
    "version": 3
   },
   "file_extension": ".py",
   "mimetype": "text/x-python",
   "name": "python",
   "nbconvert_exporter": "python",
   "pygments_lexer": "ipython3",
   "version": "3.13.3"
  }
 },
 "nbformat": 4,
 "nbformat_minor": 0
}
