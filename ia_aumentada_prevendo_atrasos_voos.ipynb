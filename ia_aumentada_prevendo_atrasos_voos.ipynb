{
 "cells": [
  {
   "cell_type": "markdown",
   "metadata": {
    "id": "3RgyMaan04TD"
   },
   "source": [
    "### Módulo 1 - Explorando os dados - Aula 3 - Entendendo os dados"
   ]
  },
  {
   "cell_type": "code",
   "execution_count": 2,
   "metadata": {
    "id": "UN77EfQ2d36Y"
   },
   "outputs": [
    {
     "name": "stdout",
     "output_type": "stream",
     "text": [
      "Versão do pandas: 2.2.3\n",
      "Versão do numpy: 2.2.4\n",
      "Versão do scikit-learn (sklearn): 1.6.1\n",
      "Versão do seaborn: 0.13.2\n",
      "Versão do yellowbrick: 1.5\n"
     ]
    }
   ],
   "source": [
    "import pandas as pd\n",
    "import numpy as np\n",
    "import sklearn\n",
    "import seaborn as sns\n",
    "import yellowbrick\n",
    "\n",
    "print(f'Versão do pandas: {pd.__version__}')\n",
    "print(f'Versão do numpy: {np.__version__}')\n",
    "print(f'Versão do scikit-learn (sklearn): {sklearn.__version__}')\n",
    "print(f'Versão do seaborn: {sns.__version__}')\n",
    "print(f'Versão do yellowbrick: {yellowbrick.__version__}')"
   ]
  },
  {
   "cell_type": "code",
   "execution_count": 3,
   "metadata": {},
   "outputs": [],
   "source": [
    "dados = pd.read_csv('C:\\\\Users\\\\joaoc\\\\OneDrive\\\\Documentos\\\\Aprendizado_ONE\\\\formacao-tech-foundation\\\\curso18_ia_aumentada_prevendo_atrasos_voos\\\\flights.csv')"
   ]
  },
  {
   "cell_type": "code",
   "execution_count": 4,
   "metadata": {},
   "outputs": [
    {
     "data": {
      "application/vnd.microsoft.datawrangler.viewer.v0+json": {
       "columns": [
        {
         "name": "index",
         "rawType": "int64",
         "type": "integer"
        },
        {
         "name": "flight_id",
         "rawType": "int64",
         "type": "integer"
        },
        {
         "name": "airline",
         "rawType": "object",
         "type": "string"
        },
        {
         "name": "aircraft_type",
         "rawType": "object",
         "type": "string"
        },
        {
         "name": "schengen",
         "rawType": "object",
         "type": "string"
        },
        {
         "name": "origin",
         "rawType": "object",
         "type": "string"
        },
        {
         "name": "arrival_time",
         "rawType": "float64",
         "type": "float"
        },
        {
         "name": "departure_time",
         "rawType": "float64",
         "type": "float"
        },
        {
         "name": "day",
         "rawType": "int64",
         "type": "integer"
        },
        {
         "name": "year",
         "rawType": "int64",
         "type": "integer"
        },
        {
         "name": "is_holiday",
         "rawType": "bool",
         "type": "boolean"
        },
        {
         "name": "delay",
         "rawType": "float64",
         "type": "float"
        }
       ],
       "ref": "a75206af-67a9-46f7-968e-a635a267bf66",
       "rows": [
        [
         "0",
         "26",
         "MM",
         "Airbus A320",
         "non-schengen",
         "TCY",
         "8.885071100621527",
         "10.885071100621529",
         "0",
         "2010",
         "False",
         "70.20598057342374"
        ],
        [
         "1",
         "10",
         "YE",
         "Airbus A320",
         "non-schengen",
         "TCY",
         "8.93999569161395",
         "11.93999569161395",
         "0",
         "2010",
         "False",
         "38.484609338469504"
        ],
        [
         "2",
         "3",
         "BZ",
         "Embraer E175",
         "schengen",
         "TZF",
         "18.63538375746072",
         "22.63538375746072",
         "0",
         "2010",
         "False",
         "2.3883054653629494"
        ],
        [
         "3",
         "28",
         "BZ",
         "Airbus A330",
         "non-schengen",
         "EMM",
         "15.967962746548036",
         "17.967962746548036",
         "0",
         "2010",
         "False",
         "19.138491329077908"
        ],
        [
         "4",
         "15",
         "BZ",
         "Airbus A330",
         "non-schengen",
         "FJB",
         "16.571894330137862",
         "19.571894330137862",
         "0",
         "2010",
         "False",
         "15.016271188399028"
        ],
        [
         "5",
         "27",
         "BZ",
         "Airbus A320",
         "schengen",
         "AUZ",
         "14.376052206287405",
         "16.376052206287405",
         "0",
         "2010",
         "False",
         "9.842977102268629"
        ],
        [
         "6",
         "25",
         "BZ",
         "Boeing 777",
         "non-schengen",
         "CSF",
         "19.3412354924849",
         "23.3412354924849",
         "0",
         "2010",
         "False",
         "39.01280384668599"
        ],
        [
         "7",
         "28",
         "BZ",
         "Airbus A330",
         "non-schengen",
         "EMM",
         "15.967962746548036",
         "17.967962746548036",
         "0",
         "2010",
         "False",
         "12.546978367734996"
        ],
        [
         "8",
         "22",
         "YE",
         "Airbus A320",
         "non-schengen",
         "MWL",
         "8.7941472735456",
         "11.7941472735456",
         "0",
         "2010",
         "False",
         "44.96972777260128"
        ],
        [
         "9",
         "8",
         "BZ",
         "Airbus A320",
         "schengen",
         "ZQO",
         "15.72961711887716",
         "18.72961711887716",
         "0",
         "2010",
         "False",
         "20.95785978034659"
        ],
        [
         "10",
         "22",
         "YE",
         "Airbus A320",
         "non-schengen",
         "MWL",
         "8.7941472735456",
         "11.7941472735456",
         "0",
         "2010",
         "False",
         "34.96737010456889"
        ],
        [
         "11",
         "1",
         "BZ",
         "Airbus A320",
         "non-schengen",
         "CNU",
         "15.496518596772097",
         "18.49651859677209",
         "0",
         "2010",
         "False",
         "27.074853887073598"
        ],
        [
         "12",
         "1",
         "BZ",
         "Airbus A320",
         "non-schengen",
         "CNU",
         "15.496518596772097",
         "18.49651859677209",
         "0",
         "2010",
         "False",
         "20.922475801685263"
        ],
        [
         "13",
         "7",
         "MM",
         "Boeing 787",
         "schengen",
         "TZF",
         "8.56494944540815",
         "13.56494944540815",
         "0",
         "2010",
         "False",
         "35.37695594587476"
        ],
        [
         "14",
         "1",
         "BZ",
         "Airbus A320",
         "non-schengen",
         "CNU",
         "15.496518596772097",
         "18.49651859677209",
         "0",
         "2010",
         "False",
         "26.6785461665006"
        ],
        [
         "15",
         "13",
         "BZ",
         "Boeing 787",
         "non-schengen",
         "TCY",
         "10.172730878911937",
         "13.172730878911937",
         "1",
         "2010",
         "False",
         "-24.253939930653463"
        ],
        [
         "16",
         "5",
         "BZ",
         "Airbus A320",
         "schengen",
         "ZQO",
         "9.344097415620125",
         "12.344097415620125",
         "1",
         "2010",
         "False",
         "-6.318647303320867"
        ],
        [
         "17",
         "8",
         "BZ",
         "Airbus A320",
         "schengen",
         "ZQO",
         "15.72961711887716",
         "18.72961711887716",
         "1",
         "2010",
         "False",
         "-3.4781635488999494"
        ],
        [
         "18",
         "25",
         "BZ",
         "Boeing 777",
         "non-schengen",
         "CSF",
         "19.3412354924849",
         "23.3412354924849",
         "1",
         "2010",
         "False",
         "4.007850371945667"
        ],
        [
         "19",
         "6",
         "YE",
         "Boeing 787",
         "schengen",
         "AUZ",
         "17.033687908193976",
         "19.033687908193976",
         "1",
         "2010",
         "False",
         "9.377576508429772"
        ],
        [
         "20",
         "29",
         "BZ",
         "Boeing 737",
         "schengen",
         "ZQO",
         "8.591207753622228",
         "11.591207753622228",
         "1",
         "2010",
         "False",
         "-11.997725298669494"
        ],
        [
         "21",
         "15",
         "BZ",
         "Airbus A330",
         "non-schengen",
         "FJB",
         "16.571894330137862",
         "19.571894330137862",
         "1",
         "2010",
         "False",
         "-11.917742169345049"
        ],
        [
         "22",
         "30",
         "BZ",
         "Embraer E175",
         "schengen",
         "PUA",
         "8.923441263556974",
         "12.923441263556974",
         "1",
         "2010",
         "False",
         "-2.208671477007705"
        ],
        [
         "23",
         "16",
         "MM",
         "Airbus A320",
         "non-schengen",
         "CSF",
         "17.04128127393899",
         "20.04128127393899",
         "1",
         "2010",
         "False",
         "52.17508351601107"
        ],
        [
         "24",
         "26",
         "MM",
         "Airbus A320",
         "non-schengen",
         "TCY",
         "8.885071100621527",
         "10.885071100621529",
         "1",
         "2010",
         "False",
         "32.330055136211115"
        ],
        [
         "25",
         "12",
         "YE",
         "Airbus A330",
         "schengen",
         "TZF",
         "17.31373090386899",
         "21.31373090386899",
         "1",
         "2010",
         "False",
         "40.03089427221384"
        ],
        [
         "26",
         "15",
         "BZ",
         "Airbus A330",
         "non-schengen",
         "FJB",
         "16.571894330137862",
         "19.571894330137862",
         "1",
         "2010",
         "False",
         "-11.352423517404"
        ],
        [
         "27",
         "27",
         "BZ",
         "Airbus A320",
         "schengen",
         "AUZ",
         "14.376052206287405",
         "16.376052206287405",
         "1",
         "2010",
         "False",
         "-4.056212248782408"
        ],
        [
         "28",
         "20",
         "YE",
         "Boeing 787",
         "schengen",
         "MWL",
         "16.90969025639159",
         "18.90969025639159",
         "1",
         "2010",
         "False",
         "3.72952645629685"
        ],
        [
         "29",
         "4",
         "BZ",
         "Airbus A330",
         "schengen",
         "TCY",
         "11.781390776955044",
         "14.781390776955044",
         "1",
         "2010",
         "False",
         "-23.223630528201003"
        ],
        [
         "30",
         "15",
         "BZ",
         "Airbus A330",
         "non-schengen",
         "FJB",
         "16.571894330137862",
         "19.571894330137862",
         "2",
         "2010",
         "False",
         "-10.50724278142778"
        ],
        [
         "31",
         "17",
         "BZ",
         "Airbus A330",
         "non-schengen",
         "CNU",
         "16.718722029493286",
         "21.71872202949329",
         "2",
         "2010",
         "False",
         "-3.457157268957268"
        ],
        [
         "32",
         "17",
         "BZ",
         "Airbus A330",
         "non-schengen",
         "CNU",
         "16.718722029493286",
         "21.71872202949329",
         "2",
         "2010",
         "False",
         "-8.104122463597417"
        ],
        [
         "33",
         "29",
         "BZ",
         "Boeing 737",
         "schengen",
         "ZQO",
         "8.591207753622228",
         "11.591207753622228",
         "2",
         "2010",
         "False",
         "4.648341798768865"
        ],
        [
         "34",
         "21",
         "BZ",
         "Boeing 737",
         "schengen",
         "FJB",
         "7.065593808091852",
         "10.065593808091853",
         "2",
         "2010",
         "False",
         "12.463512870293988"
        ],
        [
         "35",
         "1",
         "BZ",
         "Airbus A320",
         "non-schengen",
         "CNU",
         "15.496518596772097",
         "18.49651859677209",
         "2",
         "2010",
         "False",
         "1.1377096842482874"
        ],
        [
         "36",
         "13",
         "BZ",
         "Boeing 787",
         "non-schengen",
         "TCY",
         "10.172730878911937",
         "13.172730878911937",
         "2",
         "2010",
         "False",
         "-21.8362148584744"
        ],
        [
         "37",
         "22",
         "YE",
         "Airbus A320",
         "non-schengen",
         "MWL",
         "8.7941472735456",
         "11.7941472735456",
         "2",
         "2010",
         "False",
         "35.4077423860185"
        ],
        [
         "38",
         "4",
         "BZ",
         "Airbus A330",
         "schengen",
         "TCY",
         "11.781390776955044",
         "14.781390776955044",
         "2",
         "2010",
         "False",
         "-13.550440104930992"
        ],
        [
         "39",
         "22",
         "YE",
         "Airbus A320",
         "non-schengen",
         "MWL",
         "8.7941472735456",
         "11.7941472735456",
         "2",
         "2010",
         "False",
         "40.02700710866342"
        ],
        [
         "40",
         "27",
         "BZ",
         "Airbus A320",
         "schengen",
         "AUZ",
         "14.376052206287405",
         "16.376052206287405",
         "2",
         "2010",
         "False",
         "-5.558970844743459"
        ],
        [
         "41",
         "22",
         "YE",
         "Airbus A320",
         "non-schengen",
         "MWL",
         "8.7941472735456",
         "11.7941472735456",
         "2",
         "2010",
         "False",
         "21.70127633721589"
        ],
        [
         "42",
         "24",
         "BZ",
         "Airbus A320",
         "schengen",
         "FJB",
         "9.668654947672398",
         "12.668654947672398",
         "2",
         "2010",
         "False",
         "7.721371623205298"
        ],
        [
         "43",
         "18",
         "BZ",
         "Airbus A320",
         "schengen",
         "TZF",
         "14.25891108485482",
         "20.258911084854823",
         "2",
         "2010",
         "False",
         "-2.468339518438327"
        ],
        [
         "44",
         "26",
         "MM",
         "Airbus A320",
         "non-schengen",
         "TCY",
         "8.885071100621527",
         "10.885071100621529",
         "2",
         "2010",
         "False",
         "33.53655549527445"
        ],
        [
         "45",
         "23",
         "YE",
         "Embraer E175",
         "schengen",
         "TCY",
         "18.80123474516694",
         "21.80123474516694",
         "3",
         "2010",
         "False",
         "7.416810368980929"
        ],
        [
         "46",
         "5",
         "BZ",
         "Airbus A320",
         "schengen",
         "ZQO",
         "9.344097415620125",
         "12.344097415620125",
         "3",
         "2010",
         "False",
         "-7.766693300115781"
        ],
        [
         "47",
         "10",
         "YE",
         "Airbus A320",
         "non-schengen",
         "TCY",
         "8.93999569161395",
         "11.93999569161395",
         "3",
         "2010",
         "False",
         "19.04791382784842"
        ],
        [
         "48",
         "24",
         "BZ",
         "Airbus A320",
         "schengen",
         "FJB",
         "9.668654947672398",
         "12.668654947672398",
         "3",
         "2010",
         "False",
         "9.386152794464206"
        ],
        [
         "49",
         "12",
         "YE",
         "Airbus A330",
         "schengen",
         "TZF",
         "17.31373090386899",
         "21.31373090386899",
         "3",
         "2010",
         "False",
         "11.756325475887015"
        ]
       ],
       "shape": {
        "columns": 11,
        "rows": 71175
       }
      },
      "text/html": [
       "<div>\n",
       "<style scoped>\n",
       "    .dataframe tbody tr th:only-of-type {\n",
       "        vertical-align: middle;\n",
       "    }\n",
       "\n",
       "    .dataframe tbody tr th {\n",
       "        vertical-align: top;\n",
       "    }\n",
       "\n",
       "    .dataframe thead th {\n",
       "        text-align: right;\n",
       "    }\n",
       "</style>\n",
       "<table border=\"1\" class=\"dataframe\">\n",
       "  <thead>\n",
       "    <tr style=\"text-align: right;\">\n",
       "      <th></th>\n",
       "      <th>flight_id</th>\n",
       "      <th>airline</th>\n",
       "      <th>aircraft_type</th>\n",
       "      <th>schengen</th>\n",
       "      <th>origin</th>\n",
       "      <th>arrival_time</th>\n",
       "      <th>departure_time</th>\n",
       "      <th>day</th>\n",
       "      <th>year</th>\n",
       "      <th>is_holiday</th>\n",
       "      <th>delay</th>\n",
       "    </tr>\n",
       "  </thead>\n",
       "  <tbody>\n",
       "    <tr>\n",
       "      <th>0</th>\n",
       "      <td>26</td>\n",
       "      <td>MM</td>\n",
       "      <td>Airbus A320</td>\n",
       "      <td>non-schengen</td>\n",
       "      <td>TCY</td>\n",
       "      <td>8.885071</td>\n",
       "      <td>10.885071</td>\n",
       "      <td>0</td>\n",
       "      <td>2010</td>\n",
       "      <td>False</td>\n",
       "      <td>70.205981</td>\n",
       "    </tr>\n",
       "    <tr>\n",
       "      <th>1</th>\n",
       "      <td>10</td>\n",
       "      <td>YE</td>\n",
       "      <td>Airbus A320</td>\n",
       "      <td>non-schengen</td>\n",
       "      <td>TCY</td>\n",
       "      <td>8.939996</td>\n",
       "      <td>11.939996</td>\n",
       "      <td>0</td>\n",
       "      <td>2010</td>\n",
       "      <td>False</td>\n",
       "      <td>38.484609</td>\n",
       "    </tr>\n",
       "    <tr>\n",
       "      <th>2</th>\n",
       "      <td>3</td>\n",
       "      <td>BZ</td>\n",
       "      <td>Embraer E175</td>\n",
       "      <td>schengen</td>\n",
       "      <td>TZF</td>\n",
       "      <td>18.635384</td>\n",
       "      <td>22.635384</td>\n",
       "      <td>0</td>\n",
       "      <td>2010</td>\n",
       "      <td>False</td>\n",
       "      <td>2.388305</td>\n",
       "    </tr>\n",
       "    <tr>\n",
       "      <th>3</th>\n",
       "      <td>28</td>\n",
       "      <td>BZ</td>\n",
       "      <td>Airbus A330</td>\n",
       "      <td>non-schengen</td>\n",
       "      <td>EMM</td>\n",
       "      <td>15.967963</td>\n",
       "      <td>17.967963</td>\n",
       "      <td>0</td>\n",
       "      <td>2010</td>\n",
       "      <td>False</td>\n",
       "      <td>19.138491</td>\n",
       "    </tr>\n",
       "    <tr>\n",
       "      <th>4</th>\n",
       "      <td>15</td>\n",
       "      <td>BZ</td>\n",
       "      <td>Airbus A330</td>\n",
       "      <td>non-schengen</td>\n",
       "      <td>FJB</td>\n",
       "      <td>16.571894</td>\n",
       "      <td>19.571894</td>\n",
       "      <td>0</td>\n",
       "      <td>2010</td>\n",
       "      <td>False</td>\n",
       "      <td>15.016271</td>\n",
       "    </tr>\n",
       "    <tr>\n",
       "      <th>...</th>\n",
       "      <td>...</td>\n",
       "      <td>...</td>\n",
       "      <td>...</td>\n",
       "      <td>...</td>\n",
       "      <td>...</td>\n",
       "      <td>...</td>\n",
       "      <td>...</td>\n",
       "      <td>...</td>\n",
       "      <td>...</td>\n",
       "      <td>...</td>\n",
       "      <td>...</td>\n",
       "    </tr>\n",
       "    <tr>\n",
       "      <th>71170</th>\n",
       "      <td>3</td>\n",
       "      <td>BZ</td>\n",
       "      <td>Embraer E175</td>\n",
       "      <td>schengen</td>\n",
       "      <td>TZF</td>\n",
       "      <td>18.635384</td>\n",
       "      <td>22.635384</td>\n",
       "      <td>364</td>\n",
       "      <td>2022</td>\n",
       "      <td>True</td>\n",
       "      <td>25.677277</td>\n",
       "    </tr>\n",
       "    <tr>\n",
       "      <th>71171</th>\n",
       "      <td>17</td>\n",
       "      <td>BZ</td>\n",
       "      <td>Airbus A330</td>\n",
       "      <td>non-schengen</td>\n",
       "      <td>CNU</td>\n",
       "      <td>16.718722</td>\n",
       "      <td>21.718722</td>\n",
       "      <td>364</td>\n",
       "      <td>2022</td>\n",
       "      <td>True</td>\n",
       "      <td>52.624348</td>\n",
       "    </tr>\n",
       "    <tr>\n",
       "      <th>71172</th>\n",
       "      <td>7</td>\n",
       "      <td>MM</td>\n",
       "      <td>Boeing 787</td>\n",
       "      <td>schengen</td>\n",
       "      <td>TZF</td>\n",
       "      <td>8.564949</td>\n",
       "      <td>13.564949</td>\n",
       "      <td>364</td>\n",
       "      <td>2022</td>\n",
       "      <td>True</td>\n",
       "      <td>56.167080</td>\n",
       "    </tr>\n",
       "    <tr>\n",
       "      <th>71173</th>\n",
       "      <td>5</td>\n",
       "      <td>BZ</td>\n",
       "      <td>Airbus A320</td>\n",
       "      <td>schengen</td>\n",
       "      <td>ZQO</td>\n",
       "      <td>9.344097</td>\n",
       "      <td>12.344097</td>\n",
       "      <td>364</td>\n",
       "      <td>2022</td>\n",
       "      <td>True</td>\n",
       "      <td>56.758844</td>\n",
       "    </tr>\n",
       "    <tr>\n",
       "      <th>71174</th>\n",
       "      <td>29</td>\n",
       "      <td>BZ</td>\n",
       "      <td>Boeing 737</td>\n",
       "      <td>schengen</td>\n",
       "      <td>ZQO</td>\n",
       "      <td>8.591208</td>\n",
       "      <td>11.591208</td>\n",
       "      <td>364</td>\n",
       "      <td>2022</td>\n",
       "      <td>True</td>\n",
       "      <td>41.401648</td>\n",
       "    </tr>\n",
       "  </tbody>\n",
       "</table>\n",
       "<p>71175 rows × 11 columns</p>\n",
       "</div>"
      ],
      "text/plain": [
       "       flight_id airline aircraft_type      schengen origin  arrival_time  \\\n",
       "0             26      MM   Airbus A320  non-schengen    TCY      8.885071   \n",
       "1             10      YE   Airbus A320  non-schengen    TCY      8.939996   \n",
       "2              3      BZ  Embraer E175      schengen    TZF     18.635384   \n",
       "3             28      BZ   Airbus A330  non-schengen    EMM     15.967963   \n",
       "4             15      BZ   Airbus A330  non-schengen    FJB     16.571894   \n",
       "...          ...     ...           ...           ...    ...           ...   \n",
       "71170          3      BZ  Embraer E175      schengen    TZF     18.635384   \n",
       "71171         17      BZ   Airbus A330  non-schengen    CNU     16.718722   \n",
       "71172          7      MM    Boeing 787      schengen    TZF      8.564949   \n",
       "71173          5      BZ   Airbus A320      schengen    ZQO      9.344097   \n",
       "71174         29      BZ    Boeing 737      schengen    ZQO      8.591208   \n",
       "\n",
       "       departure_time  day  year  is_holiday      delay  \n",
       "0           10.885071    0  2010       False  70.205981  \n",
       "1           11.939996    0  2010       False  38.484609  \n",
       "2           22.635384    0  2010       False   2.388305  \n",
       "3           17.967963    0  2010       False  19.138491  \n",
       "4           19.571894    0  2010       False  15.016271  \n",
       "...               ...  ...   ...         ...        ...  \n",
       "71170       22.635384  364  2022        True  25.677277  \n",
       "71171       21.718722  364  2022        True  52.624348  \n",
       "71172       13.564949  364  2022        True  56.167080  \n",
       "71173       12.344097  364  2022        True  56.758844  \n",
       "71174       11.591208  364  2022        True  41.401648  \n",
       "\n",
       "[71175 rows x 11 columns]"
      ]
     },
     "execution_count": 4,
     "metadata": {},
     "output_type": "execute_result"
    }
   ],
   "source": [
    "dados"
   ]
  },
  {
   "cell_type": "code",
   "execution_count": 5,
   "metadata": {},
   "outputs": [
    {
     "data": {
      "application/vnd.microsoft.datawrangler.viewer.v0+json": {
       "columns": [
        {
         "name": "index",
         "rawType": "int64",
         "type": "integer"
        },
        {
         "name": "flight_id",
         "rawType": "int64",
         "type": "integer"
        },
        {
         "name": "airline",
         "rawType": "object",
         "type": "string"
        },
        {
         "name": "aircraft_type",
         "rawType": "object",
         "type": "string"
        },
        {
         "name": "schengen",
         "rawType": "object",
         "type": "string"
        },
        {
         "name": "origin",
         "rawType": "object",
         "type": "string"
        },
        {
         "name": "arrival_time",
         "rawType": "float64",
         "type": "float"
        },
        {
         "name": "departure_time",
         "rawType": "float64",
         "type": "float"
        },
        {
         "name": "day",
         "rawType": "int64",
         "type": "integer"
        },
        {
         "name": "year",
         "rawType": "int64",
         "type": "integer"
        },
        {
         "name": "is_holiday",
         "rawType": "bool",
         "type": "boolean"
        },
        {
         "name": "delay",
         "rawType": "float64",
         "type": "float"
        }
       ],
       "ref": "0401fe4a-77d8-41a1-aa67-a4b9241bc59e",
       "rows": [
        [
         "71170",
         "3",
         "BZ",
         "Embraer E175",
         "schengen",
         "TZF",
         "18.63538375746072",
         "22.63538375746072",
         "364",
         "2022",
         "True",
         "25.677277075990038"
        ],
        [
         "71171",
         "17",
         "BZ",
         "Airbus A330",
         "non-schengen",
         "CNU",
         "16.718722029493286",
         "21.71872202949329",
         "364",
         "2022",
         "True",
         "52.62434828345653"
        ],
        [
         "71172",
         "7",
         "MM",
         "Boeing 787",
         "schengen",
         "TZF",
         "8.56494944540815",
         "13.56494944540815",
         "364",
         "2022",
         "True",
         "56.16708013089953"
        ],
        [
         "71173",
         "5",
         "BZ",
         "Airbus A320",
         "schengen",
         "ZQO",
         "9.344097415620125",
         "12.344097415620125",
         "364",
         "2022",
         "True",
         "56.75884437088583"
        ],
        [
         "71174",
         "29",
         "BZ",
         "Boeing 737",
         "schengen",
         "ZQO",
         "8.591207753622228",
         "11.591207753622228",
         "364",
         "2022",
         "True",
         "41.40164813069428"
        ]
       ],
       "shape": {
        "columns": 11,
        "rows": 5
       }
      },
      "text/html": [
       "<div>\n",
       "<style scoped>\n",
       "    .dataframe tbody tr th:only-of-type {\n",
       "        vertical-align: middle;\n",
       "    }\n",
       "\n",
       "    .dataframe tbody tr th {\n",
       "        vertical-align: top;\n",
       "    }\n",
       "\n",
       "    .dataframe thead th {\n",
       "        text-align: right;\n",
       "    }\n",
       "</style>\n",
       "<table border=\"1\" class=\"dataframe\">\n",
       "  <thead>\n",
       "    <tr style=\"text-align: right;\">\n",
       "      <th></th>\n",
       "      <th>flight_id</th>\n",
       "      <th>airline</th>\n",
       "      <th>aircraft_type</th>\n",
       "      <th>schengen</th>\n",
       "      <th>origin</th>\n",
       "      <th>arrival_time</th>\n",
       "      <th>departure_time</th>\n",
       "      <th>day</th>\n",
       "      <th>year</th>\n",
       "      <th>is_holiday</th>\n",
       "      <th>delay</th>\n",
       "    </tr>\n",
       "  </thead>\n",
       "  <tbody>\n",
       "    <tr>\n",
       "      <th>71170</th>\n",
       "      <td>3</td>\n",
       "      <td>BZ</td>\n",
       "      <td>Embraer E175</td>\n",
       "      <td>schengen</td>\n",
       "      <td>TZF</td>\n",
       "      <td>18.635384</td>\n",
       "      <td>22.635384</td>\n",
       "      <td>364</td>\n",
       "      <td>2022</td>\n",
       "      <td>True</td>\n",
       "      <td>25.677277</td>\n",
       "    </tr>\n",
       "    <tr>\n",
       "      <th>71171</th>\n",
       "      <td>17</td>\n",
       "      <td>BZ</td>\n",
       "      <td>Airbus A330</td>\n",
       "      <td>non-schengen</td>\n",
       "      <td>CNU</td>\n",
       "      <td>16.718722</td>\n",
       "      <td>21.718722</td>\n",
       "      <td>364</td>\n",
       "      <td>2022</td>\n",
       "      <td>True</td>\n",
       "      <td>52.624348</td>\n",
       "    </tr>\n",
       "    <tr>\n",
       "      <th>71172</th>\n",
       "      <td>7</td>\n",
       "      <td>MM</td>\n",
       "      <td>Boeing 787</td>\n",
       "      <td>schengen</td>\n",
       "      <td>TZF</td>\n",
       "      <td>8.564949</td>\n",
       "      <td>13.564949</td>\n",
       "      <td>364</td>\n",
       "      <td>2022</td>\n",
       "      <td>True</td>\n",
       "      <td>56.167080</td>\n",
       "    </tr>\n",
       "    <tr>\n",
       "      <th>71173</th>\n",
       "      <td>5</td>\n",
       "      <td>BZ</td>\n",
       "      <td>Airbus A320</td>\n",
       "      <td>schengen</td>\n",
       "      <td>ZQO</td>\n",
       "      <td>9.344097</td>\n",
       "      <td>12.344097</td>\n",
       "      <td>364</td>\n",
       "      <td>2022</td>\n",
       "      <td>True</td>\n",
       "      <td>56.758844</td>\n",
       "    </tr>\n",
       "    <tr>\n",
       "      <th>71174</th>\n",
       "      <td>29</td>\n",
       "      <td>BZ</td>\n",
       "      <td>Boeing 737</td>\n",
       "      <td>schengen</td>\n",
       "      <td>ZQO</td>\n",
       "      <td>8.591208</td>\n",
       "      <td>11.591208</td>\n",
       "      <td>364</td>\n",
       "      <td>2022</td>\n",
       "      <td>True</td>\n",
       "      <td>41.401648</td>\n",
       "    </tr>\n",
       "  </tbody>\n",
       "</table>\n",
       "</div>"
      ],
      "text/plain": [
       "       flight_id airline aircraft_type      schengen origin  arrival_time  \\\n",
       "71170          3      BZ  Embraer E175      schengen    TZF     18.635384   \n",
       "71171         17      BZ   Airbus A330  non-schengen    CNU     16.718722   \n",
       "71172          7      MM    Boeing 787      schengen    TZF      8.564949   \n",
       "71173          5      BZ   Airbus A320      schengen    ZQO      9.344097   \n",
       "71174         29      BZ    Boeing 737      schengen    ZQO      8.591208   \n",
       "\n",
       "       departure_time  day  year  is_holiday      delay  \n",
       "71170       22.635384  364  2022        True  25.677277  \n",
       "71171       21.718722  364  2022        True  52.624348  \n",
       "71172       13.564949  364  2022        True  56.167080  \n",
       "71173       12.344097  364  2022        True  56.758844  \n",
       "71174       11.591208  364  2022        True  41.401648  "
      ]
     },
     "execution_count": 5,
     "metadata": {},
     "output_type": "execute_result"
    }
   ],
   "source": [
    "dados.tail()"
   ]
  },
  {
   "cell_type": "code",
   "execution_count": 6,
   "metadata": {},
   "outputs": [
    {
     "data": {
      "text/plain": [
       "(71175, 11)"
      ]
     },
     "execution_count": 6,
     "metadata": {},
     "output_type": "execute_result"
    }
   ],
   "source": [
    "dados.shape"
   ]
  },
  {
   "cell_type": "markdown",
   "metadata": {},
   "source": [
    "O método describe é uma ferramenta poderosa que fornece estatísticas descritivas de um conjunto de dados. Este método calcula várias estatísticas resumidas de uma só vez, incluindo a contagem (número de elementos), média, desvio padrão (medida de dispersão dos dados), mínimo (o menor valor), os quartis (25%, 50% e 75% - correspondentes ao primeiro quartil, mediana e terceiro quartil, respectivamente) e o máximo (o maior valor)."
   ]
  },
  {
   "cell_type": "code",
   "execution_count": 7,
   "metadata": {},
   "outputs": [
    {
     "data": {
      "application/vnd.microsoft.datawrangler.viewer.v0+json": {
       "columns": [
        {
         "name": "index",
         "rawType": "object",
         "type": "string"
        },
        {
         "name": "flight_id",
         "rawType": "float64",
         "type": "float"
        },
        {
         "name": "arrival_time",
         "rawType": "float64",
         "type": "float"
        },
        {
         "name": "departure_time",
         "rawType": "float64",
         "type": "float"
        },
        {
         "name": "day",
         "rawType": "float64",
         "type": "float"
        },
        {
         "name": "year",
         "rawType": "float64",
         "type": "float"
        },
        {
         "name": "delay",
         "rawType": "float64",
         "type": "float"
        }
       ],
       "ref": "ff24d35f-171a-4e4d-a46e-281eac3d3eb4",
       "rows": [
        [
         "count",
         "71175.0",
         "71175.0",
         "71175.0",
         "71175.0",
         "71175.0",
         "71175.0"
        ],
        [
         "mean",
         "15.465135230066737",
         "13.283158843278189",
         "16.4802224189719",
         "182.0",
         "2016.0",
         "12.548378015698628"
        ],
        [
         "std",
         "8.649646400374442",
         "4.023379604080623",
         "4.1437053757871505",
         "105.36676887864938",
         "3.7416836719640685",
         "23.125349031179717"
        ],
        [
         "min",
         "1.0",
         "7.065593808091852",
         "10.065593808091853",
         "0.0",
         "2010.0",
         "-41.0280332484786"
        ],
        [
         "25%",
         "8.0",
         "8.93999569161395",
         "12.668654947672398",
         "91.0",
         "2013.0",
         "-4.412876241836338"
        ],
        [
         "50%",
         "15.0",
         "14.25891108485482",
         "16.376052206287405",
         "182.0",
         "2016.0",
         "9.740453855590491"
        ],
        [
         "75%",
         "23.0",
         "16.90969025639159",
         "20.04128127393899",
         "273.0",
         "2019.0",
         "27.650852727426653"
        ],
        [
         "max",
         "30.0",
         "19.3412354924849",
         "23.3412354924849",
         "364.0",
         "2022.0",
         "125.63235207172622"
        ]
       ],
       "shape": {
        "columns": 6,
        "rows": 8
       }
      },
      "text/html": [
       "<div>\n",
       "<style scoped>\n",
       "    .dataframe tbody tr th:only-of-type {\n",
       "        vertical-align: middle;\n",
       "    }\n",
       "\n",
       "    .dataframe tbody tr th {\n",
       "        vertical-align: top;\n",
       "    }\n",
       "\n",
       "    .dataframe thead th {\n",
       "        text-align: right;\n",
       "    }\n",
       "</style>\n",
       "<table border=\"1\" class=\"dataframe\">\n",
       "  <thead>\n",
       "    <tr style=\"text-align: right;\">\n",
       "      <th></th>\n",
       "      <th>flight_id</th>\n",
       "      <th>arrival_time</th>\n",
       "      <th>departure_time</th>\n",
       "      <th>day</th>\n",
       "      <th>year</th>\n",
       "      <th>delay</th>\n",
       "    </tr>\n",
       "  </thead>\n",
       "  <tbody>\n",
       "    <tr>\n",
       "      <th>count</th>\n",
       "      <td>71175.000000</td>\n",
       "      <td>71175.000000</td>\n",
       "      <td>71175.000000</td>\n",
       "      <td>71175.000000</td>\n",
       "      <td>71175.000000</td>\n",
       "      <td>71175.000000</td>\n",
       "    </tr>\n",
       "    <tr>\n",
       "      <th>mean</th>\n",
       "      <td>15.465135</td>\n",
       "      <td>13.283159</td>\n",
       "      <td>16.480222</td>\n",
       "      <td>182.000000</td>\n",
       "      <td>2016.000000</td>\n",
       "      <td>12.548378</td>\n",
       "    </tr>\n",
       "    <tr>\n",
       "      <th>std</th>\n",
       "      <td>8.649646</td>\n",
       "      <td>4.023380</td>\n",
       "      <td>4.143705</td>\n",
       "      <td>105.366769</td>\n",
       "      <td>3.741684</td>\n",
       "      <td>23.125349</td>\n",
       "    </tr>\n",
       "    <tr>\n",
       "      <th>min</th>\n",
       "      <td>1.000000</td>\n",
       "      <td>7.065594</td>\n",
       "      <td>10.065594</td>\n",
       "      <td>0.000000</td>\n",
       "      <td>2010.000000</td>\n",
       "      <td>-41.028033</td>\n",
       "    </tr>\n",
       "    <tr>\n",
       "      <th>25%</th>\n",
       "      <td>8.000000</td>\n",
       "      <td>8.939996</td>\n",
       "      <td>12.668655</td>\n",
       "      <td>91.000000</td>\n",
       "      <td>2013.000000</td>\n",
       "      <td>-4.412876</td>\n",
       "    </tr>\n",
       "    <tr>\n",
       "      <th>50%</th>\n",
       "      <td>15.000000</td>\n",
       "      <td>14.258911</td>\n",
       "      <td>16.376052</td>\n",
       "      <td>182.000000</td>\n",
       "      <td>2016.000000</td>\n",
       "      <td>9.740454</td>\n",
       "    </tr>\n",
       "    <tr>\n",
       "      <th>75%</th>\n",
       "      <td>23.000000</td>\n",
       "      <td>16.909690</td>\n",
       "      <td>20.041281</td>\n",
       "      <td>273.000000</td>\n",
       "      <td>2019.000000</td>\n",
       "      <td>27.650853</td>\n",
       "    </tr>\n",
       "    <tr>\n",
       "      <th>max</th>\n",
       "      <td>30.000000</td>\n",
       "      <td>19.341235</td>\n",
       "      <td>23.341235</td>\n",
       "      <td>364.000000</td>\n",
       "      <td>2022.000000</td>\n",
       "      <td>125.632352</td>\n",
       "    </tr>\n",
       "  </tbody>\n",
       "</table>\n",
       "</div>"
      ],
      "text/plain": [
       "          flight_id  arrival_time  departure_time           day          year  \\\n",
       "count  71175.000000  71175.000000    71175.000000  71175.000000  71175.000000   \n",
       "mean      15.465135     13.283159       16.480222    182.000000   2016.000000   \n",
       "std        8.649646      4.023380        4.143705    105.366769      3.741684   \n",
       "min        1.000000      7.065594       10.065594      0.000000   2010.000000   \n",
       "25%        8.000000      8.939996       12.668655     91.000000   2013.000000   \n",
       "50%       15.000000     14.258911       16.376052    182.000000   2016.000000   \n",
       "75%       23.000000     16.909690       20.041281    273.000000   2019.000000   \n",
       "max       30.000000     19.341235       23.341235    364.000000   2022.000000   \n",
       "\n",
       "              delay  \n",
       "count  71175.000000  \n",
       "mean      12.548378  \n",
       "std       23.125349  \n",
       "min      -41.028033  \n",
       "25%       -4.412876  \n",
       "50%        9.740454  \n",
       "75%       27.650853  \n",
       "max      125.632352  "
      ]
     },
     "execution_count": 7,
     "metadata": {},
     "output_type": "execute_result"
    }
   ],
   "source": [
    "dados.describe()"
   ]
  },
  {
   "cell_type": "markdown",
   "metadata": {},
   "source": [
    "Além disso, é possível obter as estatística descritivas para as variáveis categóricas: df.describe(include=['O'])."
   ]
  },
  {
   "cell_type": "code",
   "execution_count": 8,
   "metadata": {},
   "outputs": [
    {
     "data": {
      "application/vnd.microsoft.datawrangler.viewer.v0+json": {
       "columns": [
        {
         "name": "index",
         "rawType": "object",
         "type": "string"
        },
        {
         "name": "airline",
         "rawType": "object",
         "type": "unknown"
        },
        {
         "name": "aircraft_type",
         "rawType": "object",
         "type": "unknown"
        },
        {
         "name": "schengen",
         "rawType": "object",
         "type": "unknown"
        },
        {
         "name": "origin",
         "rawType": "object",
         "type": "unknown"
        }
       ],
       "ref": "d319ed8e-1b44-4780-b7f3-6f8b2bf88f53",
       "rows": [
        [
         "count",
         "71175",
         "71175",
         "71175",
         "71175"
        ],
        [
         "unique",
         "3",
         "6",
         "2",
         "10"
        ],
        [
         "top",
         "BZ",
         "Airbus A320",
         "schengen",
         "TZF"
        ],
        [
         "freq",
         "47598",
         "30778",
         "42569",
         "14162"
        ]
       ],
       "shape": {
        "columns": 4,
        "rows": 4
       }
      },
      "text/html": [
       "<div>\n",
       "<style scoped>\n",
       "    .dataframe tbody tr th:only-of-type {\n",
       "        vertical-align: middle;\n",
       "    }\n",
       "\n",
       "    .dataframe tbody tr th {\n",
       "        vertical-align: top;\n",
       "    }\n",
       "\n",
       "    .dataframe thead th {\n",
       "        text-align: right;\n",
       "    }\n",
       "</style>\n",
       "<table border=\"1\" class=\"dataframe\">\n",
       "  <thead>\n",
       "    <tr style=\"text-align: right;\">\n",
       "      <th></th>\n",
       "      <th>airline</th>\n",
       "      <th>aircraft_type</th>\n",
       "      <th>schengen</th>\n",
       "      <th>origin</th>\n",
       "    </tr>\n",
       "  </thead>\n",
       "  <tbody>\n",
       "    <tr>\n",
       "      <th>count</th>\n",
       "      <td>71175</td>\n",
       "      <td>71175</td>\n",
       "      <td>71175</td>\n",
       "      <td>71175</td>\n",
       "    </tr>\n",
       "    <tr>\n",
       "      <th>unique</th>\n",
       "      <td>3</td>\n",
       "      <td>6</td>\n",
       "      <td>2</td>\n",
       "      <td>10</td>\n",
       "    </tr>\n",
       "    <tr>\n",
       "      <th>top</th>\n",
       "      <td>BZ</td>\n",
       "      <td>Airbus A320</td>\n",
       "      <td>schengen</td>\n",
       "      <td>TZF</td>\n",
       "    </tr>\n",
       "    <tr>\n",
       "      <th>freq</th>\n",
       "      <td>47598</td>\n",
       "      <td>30778</td>\n",
       "      <td>42569</td>\n",
       "      <td>14162</td>\n",
       "    </tr>\n",
       "  </tbody>\n",
       "</table>\n",
       "</div>"
      ],
      "text/plain": [
       "       airline aircraft_type  schengen origin\n",
       "count    71175         71175     71175  71175\n",
       "unique       3             6         2     10\n",
       "top         BZ   Airbus A320  schengen    TZF\n",
       "freq     47598         30778     42569  14162"
      ]
     },
     "execution_count": 8,
     "metadata": {},
     "output_type": "execute_result"
    }
   ],
   "source": [
    "dados.describe(include='O')"
   ]
  },
  {
   "cell_type": "code",
   "execution_count": 9,
   "metadata": {},
   "outputs": [
    {
     "name": "stdout",
     "output_type": "stream",
     "text": [
      "<class 'pandas.core.frame.DataFrame'>\n",
      "RangeIndex: 71175 entries, 0 to 71174\n",
      "Data columns (total 11 columns):\n",
      " #   Column          Non-Null Count  Dtype  \n",
      "---  ------          --------------  -----  \n",
      " 0   flight_id       71175 non-null  int64  \n",
      " 1   airline         71175 non-null  object \n",
      " 2   aircraft_type   71175 non-null  object \n",
      " 3   schengen        71175 non-null  object \n",
      " 4   origin          71175 non-null  object \n",
      " 5   arrival_time    71175 non-null  float64\n",
      " 6   departure_time  71175 non-null  float64\n",
      " 7   day             71175 non-null  int64  \n",
      " 8   year            71175 non-null  int64  \n",
      " 9   is_holiday      71175 non-null  bool   \n",
      " 10  delay           71175 non-null  float64\n",
      "dtypes: bool(1), float64(3), int64(3), object(4)\n",
      "memory usage: 5.5+ MB\n"
     ]
    }
   ],
   "source": [
    "dados.info()"
   ]
  },
  {
   "cell_type": "markdown",
   "metadata": {},
   "source": [
    "### Módulo 1 - Explorando dados - aula 5 - Visualizações gráficas dos dados"
   ]
  },
  {
   "cell_type": "code",
   "execution_count": 10,
   "metadata": {},
   "outputs": [],
   "source": [
    "import matplotlib.pyplot as plt\n",
    "import seaborn as sns"
   ]
  },
  {
   "cell_type": "code",
   "execution_count": null,
   "metadata": {},
   "outputs": [
    {
     "data": {
      "image/png": "[encoded data removed]",
      "text/plain": [
       "<Figure size 800x550 with 1 Axes>"
      ]
     },
     "metadata": {},
     "output_type": "display_data"
    },
    {
     "data": {
      "image/png": "[encoded data removed]",
      "text/plain": [
       "<Figure size 800x550 with 1 Axes>"
      ]
     },
     "metadata": {},
     "output_type": "display_data"
    }
   ],
   "source": [
    "# Criar gráfico para visualizar a distribuição da média dos atrasos por companhia aérea\n",
    "average_delay = dados.groupby('airline')['delay'].mean().reset_index()\n",
    "sns.barplot(x='airline', y='delay', data=average_delay)\n",
    "plt.title('Companhias aéreas vs atrasos médios')\n",
    "plt.xlabel('Companhias aéreas')\n",
    "plt.ylabel('Atraso médio em minutos')\n",
    "plt.show()\n",
    "# Criar gráfico de barras para visualizar o número de voos por companhia aérea\n",
    "sns.countplot(data=dados, x='airline')\n",
    "plt.title('Número de voos por companhia aérea')\n",
    "plt.xlabel('Companhia aérea')\n",
    "plt.ylabel('Número de voos')\n",
    "plt.show()"
   ]
  },
  {
   "cell_type": "code",
   "execution_count": null,
   "metadata": {},
   "outputs": [
    {
     "data": {
      "image/png": "[encoded data removed]",
      "text/plain": [
       "<Figure size 800x550 with 1 Axes>"
      ]
     },
     "metadata": {},
     "output_type": "display_data"
    },
    {
     "data": {
      "image/png": "[encoded data removed]",
      "text/plain": [
       "<Figure size 800x550 with 1 Axes>"
      ]
     },
     "metadata": {},
     "output_type": "display_data"
    }
   ],
   "source": [
    "# Criar gráfico para visualizar a distribuição dos atrasos médios por tipo de voo\n",
    "average_delay = dados.groupby('schengen')['delay'].mean().reset_index()\n",
    "sns.barplot(x='schengen', y='delay', data=average_delay)\n",
    "plt.title('Tipo do voo vs atrasos médios')\n",
    "plt.xlabel('Tipo do voo')\n",
    "plt.ylabel('Atraso médio em minutos')\n",
    "plt.show()\n",
    "# Criar gráfico de barras para visualizar o número de voos por tipo de voo\n",
    "sns.countplot(data=dados, x='schengen')\n",
    "plt.title('Número de voos por tipo do voo')\n",
    "plt.xlabel('Tipo do voo')\n",
    "plt.ylabel('Número de voos')\n",
    "plt.show()"
   ]
  },
  {
   "cell_type": "code",
   "execution_count": 14,
   "metadata": {},
   "outputs": [
    {
     "data": {
      "image/png": "[encoded data removed]",
      "text/plain": [
       "<Figure size 800x550 with 1 Axes>"
      ]
     },
     "metadata": {},
     "output_type": "display_data"
    }
   ],
   "source": [
    "# Criar gráfico para visualizar a distribuição dos atrasos médios em feriados\n",
    "average_delay = dados.groupby('is_holiday')['delay'].mean().reset_index()\n",
    "sns.barplot(x='is_holiday', y='delay', data=average_delay)\n",
    "plt.title('Feriado vs atrasos médios')\n",
    "plt.xlabel('É feriado?')\n",
    "plt.ylabel('Atraso médio em minutos')\n",
    "plt.show()"
   ]
  },
  {
   "cell_type": "code",
   "execution_count": 16,
   "metadata": {},
   "outputs": [
    {
     "data": {
      "image/png": "[encoded data removed]",
      "text/plain": [
       "<Figure size 800x550 with 1 Axes>"
      ]
     },
     "metadata": {},
     "output_type": "display_data"
    }
   ],
   "source": [
    "# Criar gráfico de barras para visualizar o número de voos por tipo de aeronave\n",
    "order = dados['aircraft_type'].value_counts().index\n",
    "sns.countplot(data=dados, x='aircraft_type', order = order)\n",
    "plt.title('Número de voos por tipo da aeronave')\n",
    "plt.xticks(rotation=0)\n",
    "plt.xlabel('Tipo da aeronave')\n",
    "plt.ylabel('Número de voos')\n",
    "plt.show()"
   ]
  },
  {
   "cell_type": "code",
   "execution_count": null,
   "metadata": {},
   "outputs": [],
   "source": []
  }
 ],
 "metadata": {
  "colab": {
   "authorship_tag": "ABX9TyNAcHMa4C+Q6J7M1CkYm1Tn",
   "provenance": [],
   "toc_visible": true
  },
  "kernelspec": {
   "display_name": "Python 3",
   "name": "python3"
  },
  "language_info": {
   "codemirror_mode": {
    "name": "ipython",
    "version": 3
   },
   "file_extension": ".py",
   "mimetype": "text/x-python",
   "name": "python",
   "nbconvert_exporter": "python",
   "pygments_lexer": "ipython3",
   "version": "3.13.3"
  }
 },
 "nbformat": 4,
 "nbformat_minor": 0
}
